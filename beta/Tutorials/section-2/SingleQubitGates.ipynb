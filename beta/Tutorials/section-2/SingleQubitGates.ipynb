{
 "cells": [
  {
   "cell_type": "code",
   "execution_count": null,
   "metadata": {},
   "outputs": [],
   "source": [
    "#run this cell to install qiskit \n",
    "#skip this cell if you have pre-installed qiskit library or if you are running on IBM-Quantum\n",
    "! pip install qiskit"
   ]
  },
  {
   "attachments": {},
   "cell_type": "markdown",
   "metadata": {},
   "source": [
    " **<u><center> Single Qubit Gates</center></u>** \n",
    "---\n",
    "\n",
    "> ## Pauli Gates\n",
    "These gates are represented by general Pauli matrices. \n",
    "There are three Pauli Gates in Quantum Computing: <font color=\"darksalmon\">**X**, **Y**,</font> and <font color=\"darksalmon\">**Z**</font>.\n",
    "The Pauli X, Y, and Z gates correspond, respectively, to a rotation around the x, y, and z axes of the Bloch sphere by π radians.\n",
    "\n",
    "- #### **X gate**:\n",
    "  - The Pauli-X gate is the quantum equivalent of the NOT gate for classical computers with respect to the standard basis |0⟩ and |1⟩.\n",
    "  - The X gate switches the amplitudes of the states |0⟩ and |1⟩.\n",
    "\n",
    "    $\\quad\\quad\\quad\\quad\\quad\\quad\\quad X \\begin{bmatrix} \\alpha \\\\ \\beta \\end{bmatrix} = \\begin{bmatrix} \\beta \\\\ \\alpha \\end{bmatrix}$\n",
    "\n",
    "    X Gate is represented by the Pauli matrix:\n",
    "\n",
    "    $\\quad\\quad\\quad\\quad\\quad\\quad\\quad X = \\begin{bmatrix}\n",
    "    0 & 1 \\\\\n",
    "    1 & 0 \\\\\n",
    "    \\end{bmatrix}$\n",
    "\n",
    "    The X gate can be visualized as a 180-degree rotation about the X axis.\n",
    "\n",
    "    <font color=orange>Simply </font><br>\n",
    "    \n",
    "    $\\quad\\quad\\quad\\quad\\quad\\quad\\quad X\\ket{0}=\\ket{1}$<br>\n",
    "    $\\quad\\quad\\quad\\quad\\quad\\quad\\quad X\\ket{1}=\\ket{0}$\n",
    "\n",
    "        \n",
    "        \n",
    "        \n",
    "\n",
    "---\n",
    "\n",
    "*In Qiskit we have function x to add X gate* to our circuit<br>\n",
    "\n",
    "        qc=QuantumCircuit(1)\n",
    "        qc.x(0)\n",
    "        \n",
    "<br>*for further reference, click [here](  https://qiskit.org/documentation/stubs/qiskit.circuit.QuantumCircuit.x.html   )*\n",
    "\n",
    "---\n",
    "\n",
    "- #### **Y & Z Gates**:\n",
    "  \n",
    "    - Similar to the Pauli-X gate, the Y gate maps |0⟩ to i|1⟩ and |1⟩ to -i|0⟩.\n",
    "        The Z gate leaves the state |0⟩ unchanged and maps |1⟩ to -|1⟩.\n",
    "        The Y and Z gates correspond to 180-degree rotations around the y and z axes of the Bloch sphere, respectively.\n",
    "\n",
    "        The Y gate is represented by the matrix:\n",
    "\n",
    "        $\\quad\\quad\\quad\\quad\\quad\\quad\\quad Y = \\begin{bmatrix}\n",
    "        0 & -i \\\\\n",
    "        i & 0 \\\\\n",
    "        \\end{bmatrix}$\n",
    "\n",
    "        <br>*for further reference, click [here](  https://qiskit.org/documentation/stubs/qiskit.circuit.QuantumCircuit.y.html   )*\n",
    "\n",
    "        The Z gate is represented by the matrix:\n",
    "\n",
    "        $\\quad\\quad\\quad\\quad\\quad\\quad\\quad Z = \\begin{bmatrix}\n",
    "        1 & 0 \\\\\n",
    "        0 & -1 \\\\\n",
    "        \\end{bmatrix}$\n",
    "\n",
    "        <br>*for further reference, click [here](   https://qiskit.org/documentation/stubs/qiskit.circuit.QuantumCircuit.z.html  )*\n",
    "\n",
    "---\n",
    "*In qiskit we have functions y and z to add y and z gates to out quantum circuit respectively*<br>\n",
    "\n",
    "        qc=QuantumCircuit(1)\n",
    "        qc.y(0)\n",
    "        qc.z(0)\n",
    "\n",
    "---\n",
    "\n",
    "\n",
    "\n",
    "\n",
    "        \n",
    "\n",
    "\n"
   ]
  },
  {
   "cell_type": "code",
   "execution_count": null,
   "metadata": {},
   "outputs": [],
   "source": [
    "#The following statements import useful libraries containing functions and methods that will help us build the circuit.\n",
    "from qiskit.circuit import *\n",
    "from qiskit.visualization import *\n",
    "import qiskit.tools.jupyter\n",
    "from qiskit.visualization import plot_bloch_multivector,plot_bloch_vector,visualize_transition\n",
    "import numpy as np\n",
    "print(\"Libraries imported successfully\")"
   ]
  },
  {
   "attachments": {},
   "cell_type": "markdown",
   "metadata": {},
   "source": [
    "In the previous tutorial we have seen visualize_transition() to visualize the rotation of single qubit gates.\n",
    "Here we use the same function to visualize the gates transitions for better understanding.\n",
    "- *first import required functions ( we have already did in the previous cell).*\n",
    "- *create a QuantumCircuit instance with required number of qubits.<br>\n",
    "<u> Note: to visualize transition we need only single qubit in Quantumcircuit.</u>*\n",
    "- *add required gates to the qubits in the circuit.*\n",
    "- *visualize the transition by passing QuantumCircuit object to visualize_transition( ).*"
   ]
  },
  {
   "cell_type": "code",
   "execution_count": null,
   "metadata": {},
   "outputs": [],
   "source": [
    "qc=QuantumCircuit(1)\n",
    "qc.x(0)\n",
    "qc.y(0)\n",
    "qc.h(0)# ignore this gate for now\n",
    "qc.z(0)\n",
    "qc.draw(output='mpl')"
   ]
  },
  {
   "cell_type": "code",
   "execution_count": null,
   "metadata": {},
   "outputs": [],
   "source": [
    "visualize_transition(qc,fpg=5)"
   ]
  },
  {
   "attachments": {},
   "cell_type": "markdown",
   "metadata": {},
   "source": [
    "Just like visualize_transition() to visualize the rotation of single qubit gates we have also seen plot_bloch_multivector() to view the state of all qubits.\n",
    "Here we use the same function to view the state of the qubits using plot_bloch_multivector().\n",
    "- *first import required functions ( we have already did in the previous cell).*\n",
    "- *create a QuantumCircuit instance with required number of qubits.*\n",
    "- *add required gates to the qubits in the circuit.*\n",
    "- *view the state of the qubits by passing QuantumCircuit object to plot_bloch_multivector().*"
   ]
  },
  {
   "cell_type": "code",
   "execution_count": null,
   "metadata": {},
   "outputs": [],
   "source": [
    "# create a quantum circuit\n",
    "\n",
    "qc=QuantumCircuit(2)\n",
    "\n",
    "# add gates\n",
    "\n",
    "qc.x(0)\n",
    "qc.y(1)\n",
    "qc.z(1)\n",
    "qc.draw(output='mpl')"
   ]
  },
  {
   "cell_type": "code",
   "execution_count": null,
   "metadata": {},
   "outputs": [],
   "source": [
    "# plot the bloch sphere\n",
    "\n",
    "plot_bloch_multivector(qc)"
   ]
  },
  {
   "attachments": {},
   "cell_type": "markdown",
   "metadata": {},
   "source": [
    "---\n",
    "\n",
    ">## Hadamard gate :\n",
    "- Hadamard gate creates an equal superposition when computational basis state is given ($\\ket{0} and \\ket{1}$).\n",
    "- Hadamard gate is an unique and fundamental gate in Quantum Computing.\n",
    "- It has the matrix\n",
    "$\\quad\\quad\\quad\\quad H=\\frac{1}{\\sqrt{2}}\\begin{bmatrix} 1 & 1 \\\\ 1 & -1 \\end{bmatrix}$\n",
    "- Hadamard creates superposition states by taking computational states to superposition states<br>\n",
    "<br>\n",
    "$\\quad\\quad\\quad\\quad\\quad\\quad\\quad H\\ket{0}=\\ket{+}$ and <br>\n",
    "<br>\n",
    "$\\quad\\quad\\quad\\quad\\quad\\quad\\quad H\\ket{1}=\\ket{-}$<br>\n",
    "<br>\n",
    "where <br>\n",
    "<br>\n",
    "$\\quad\\quad\\quad\\quad\\quad\\quad\\quad \\ket{+}=\\frac{\\ket{0}+\\ket{1}}{\\sqrt{2}}$<br>\n",
    "<br>\n",
    "$\\quad\\quad\\quad\\quad\\quad\\quad\\quad \\ket{-}=\\frac{\\ket{0}-\\ket{1}}{\\sqrt{2}}$\n",
    "\n",
    "---\n",
    "\n",
    "*In qiskit we have `h()` function to add Hadamard gate to our circuit.*<br>\n",
    "\n",
    "        qc=QuantumCircuit(1)\n",
    "        qc.h(0)\n",
    "\n",
    "<br>*for further reference, click [here](  https://qiskit.org/documentation/stubs/qiskit.circuit.QuantumCircuit.h.html   )*\n",
    "\n",
    "---\n",
    "\n",
    "*Now lets create a Quantum Circuit and visualize the transition of Hadamard gate*.<br>\n",
    "- *Create an empty Quantum Circuit.*\n",
    "- *add Hadamard gate.*\n",
    "- *draw the circuit*\n",
    "- *visualize the transition.*"
   ]
  },
  {
   "cell_type": "code",
   "execution_count": null,
   "metadata": {},
   "outputs": [],
   "source": [
    "# creating an empty quantum circuit\n",
    "qc=QuantumCircuit(1)\n",
    "\n",
    "# add gates\n",
    "\n",
    "qc.h(0)\n",
    "\n",
    "# draw the circuit\n",
    "qc.draw(output='mpl')"
   ]
  },
  {
   "cell_type": "code",
   "execution_count": null,
   "metadata": {},
   "outputs": [],
   "source": [
    "visualize_transition(qc,fpg=10)"
   ]
  },
  {
   "attachments": {},
   "cell_type": "markdown",
   "metadata": {},
   "source": [
    "---\n",
    "\n",
    "## The P-gate :\n",
    "\n",
    "- The P-gate (phase gate) is parametrized and performs a rotation of $\\phi$ around the Z-axis direction. <br>\n",
    "- It is represented by the matrix:<br>\n",
    "\n",
    "$\\quad\\quad\\quad\\quad\\quad\\quad\\quad\n",
    "P(\\phi) = \\begin{bmatrix}\n",
    "1 & 0 \\\\\n",
    "0 & e^{i\\phi} \\\\\n",
    "\\end{bmatrix}\n",
    "$\n",
    "\n",
    "- Here, $\\phi$ is a real number that determines the rotation angle.<br>\n",
    "\n",
    "- Z gate is an instance of p gate with a rotation angle of $\\phi=\\pi$ around Z axis.\n",
    "\n",
    "- In Qiskit we have `p(angle, qubit)` function to add a phase gate to our circuit.<br>\n",
    "\n",
    "    `\n",
    "        qc=QuantumCircuit(1)\n",
    "        `<br>\n",
    "        `\n",
    "        qc.p(math.pi,0)\n",
    "    `\n",
    "\n",
    "<br>*for further reference, click [here](   https://qiskit.org/documentation/stubs/qiskit.circuit.QuantumCircuit.p.html  )*\n",
    "\n",
    "---\n",
    "\n",
    "- > ## The S-gate and S-dagger gate:\n",
    "\n",
    "    - The S-gate, also known as the $\\sqrt{Z}$-gate, is a specific case of the P-gate with $\\phi = \\frac{\\pi}{2}$.\n",
    "    - It performs a quarter-turn rotation around the Bloch sphere.\n",
    "    - However, unlike the other gates introduced so far, the S-gate is not its own inverse.\n",
    "    - To represent its inverse, we use the $S^\\dagger$-gate <font color=orange>(S-dagger)</font>, which is equivalent to a P-gate with $\\phi = -\\frac{\\pi}{2}$.\n",
    "    -  The matrices for the S-gate and $S^\\dagger$-gate are:\n",
    "\n",
    "    \n",
    "    $\\quad\\quad\\quad\\quad\n",
    "    S = \\begin{bmatrix}\n",
    "    1 & 0 \\\\\n",
    "    0 & i \\\\\n",
    "    \\end{bmatrix}$ \n",
    "    $\\quad\\quad\\quad\\quad\\quad\\quad\n",
    "    S^\\dagger = \\begin{bmatrix}\n",
    "    1 & 0 \\\\\n",
    "    0 & -i \\\\\n",
    "    \\end{bmatrix}\n",
    "    $\n",
    "   \n",
    "\n",
    "    - It is worth noting that two successive S-gate applications have the same effect as a Z-gate.\n",
    "\n",
    "    - In Qiskit we have `s()` and `sdg()` functions to add S gate and S-dagger gate to our circuit.<br>\n",
    "\n",
    "    - `\n",
    "        qc=QuantumCircuit(1)`<br>\n",
    "        `\n",
    "        qc.s(0)\n",
    "        `<br>\n",
    "        `\n",
    "        qc.sdg(1)\n",
    "    `\n",
    "\n",
    "<br>*for further reference, click [here]( https://qiskit.org/documentation/stubs/qiskit.circuit.QuantumCircuit.s.html    )*\n",
    "\n",
    "---\n",
    "\n",
    "- > ## The T-gate and T-dagger gate :\n",
    "\n",
    "    - The T-gate is another commonly used gate, which is a P-gate with $\\phi = \\frac{\\pi}{4}$. The T-gate matrix is:\n",
    "\n",
    "    $\\quad\\quad\\quad\\quad\\quad\\quad\\quad\n",
    "    T = \\begin{bmatrix}\n",
    "    1 & 0 \\\\\n",
    "    0 & e^{i\\frac{\\pi}{4}} \\\\\n",
    "    \\end{bmatrix}\n",
    "    $\n",
    "\n",
    "    - The T-gate introduces a smaller rotation than the S-gate, one-eighth of a full rotation, around the Z-axis direction.\n",
    "\n",
    "    - The T-dagger gate, denoted as $T^\\dagger$ or T-dagger, is the inverse of the T-gate. \n",
    "    - It is equivalent to a P-gate with $\\phi = -\\frac{\\pi}{4}$.\n",
    "    - The matrix representation of the T-dagger gate is:\n",
    "\n",
    "    $\\quad\\quad\\quad\\quad\\quad\\quad\\quad\n",
    "    T^\\dagger = \\begin{bmatrix}\n",
    "    1 & 0 \\\\\n",
    "    0 & e^{-i\\frac{\\pi}{4}} \\\\\n",
    "    \\end{bmatrix}\n",
    "    $\n",
    "\n",
    "    - In Qiskit we have `t()` and `tdg()` functions to add T gate and T-dagger gate to our circuit.<br>\n",
    "\n",
    "    - `\n",
    "        qc=QuantumCircuit(1)`<br>\n",
    "        `\n",
    "        qc.t(0)\n",
    "        `<br>\n",
    "        `\n",
    "        qc.tdg(1)\n",
    "    `\n",
    "<br>*for further reference, click [here](  https://qiskit.org/documentation/stubs/qiskit.circuit.QuantumCircuit.t.html   )*\n",
    "\n",
    "    ---\n",
    "\n"
   ]
  },
  {
   "attachments": {},
   "cell_type": "markdown",
   "metadata": {},
   "source": [
    "*Now lets create a Quantum Circuit and visualize the transition of phase gate, S gate, S-dagger gate, T gate and T-dagger gates*<br>\n",
    "**Phase gate**:\n",
    "- *Create an empty Quantum Circuit.*\n",
    "- *add phase gate and pass required rotation angle.(since phase gate doesnot map $\\ket{0}$ state, we take our qubit to superposition state by Hadamard gate)*\n",
    "- *draw the circuit*\n",
    "**note: Since this gate adds global phase we cannot visualize transition**"
   ]
  },
  {
   "cell_type": "code",
   "execution_count": null,
   "metadata": {},
   "outputs": [],
   "source": [
    "# create an empty quantum circuit\n",
    "\n",
    "qc=QuantumCircuit(1)\n",
    "\n",
    "# add phase gate \n",
    "qc.h(0)\n",
    "qc.p(np.pi,0)\n",
    "\n",
    "# draw the circuit\n",
    "\n",
    "qc.draw(output='mpl')\n",
    "\n"
   ]
  },
  {
   "attachments": {},
   "cell_type": "markdown",
   "metadata": {},
   "source": [
    "**S gate**:\n",
    "- *Create an empty Quantum Circuit.*\n",
    "- *add S gate and pass required rotation angle.[since S gate(phase gate) doesnot map $\\ket{0}$ state, we take our qubit to superposition state by Hadamard gate]*\n",
    "- *draw the circuit*\n",
    "- *visualize the transition.*"
   ]
  },
  {
   "cell_type": "code",
   "execution_count": null,
   "metadata": {},
   "outputs": [],
   "source": [
    "# create an empty quantum circuit\n",
    "\n",
    "qc=QuantumCircuit(1)\n",
    "\n",
    "# add phase gate \n",
    "qc.h(0)\n",
    "qc.s(0)\n",
    "\n",
    "# draw the circuit\n",
    "\n",
    "qc.draw(output='mpl')\n",
    "\n"
   ]
  },
  {
   "cell_type": "code",
   "execution_count": null,
   "metadata": {},
   "outputs": [],
   "source": [
    "# visualize the transition\n",
    "\n",
    "visualize_transition(qc,fpg=10)"
   ]
  },
  {
   "attachments": {},
   "cell_type": "markdown",
   "metadata": {},
   "source": [
    "**S-dagger gate**:\n",
    "- *Create an empty Quantum Circuit.*\n",
    "- *add sdg gate and pass required rotation angle.[since sdg gate(phase gate) doesnot map $\\ket{0}$ state, we take our qubit to superposition state by Hadamard gate]*\n",
    "- *draw the circuit*\n",
    "- *visualize the transition.*"
   ]
  },
  {
   "cell_type": "code",
   "execution_count": null,
   "metadata": {},
   "outputs": [],
   "source": [
    "# create an empty quantum circuit\n",
    "\n",
    "qc=QuantumCircuit(1)\n",
    "\n",
    "# add phase gate \n",
    "qc.h(0)\n",
    "qc.sdg(0)\n",
    "\n",
    "# draw the circuit\n",
    "\n",
    "qc.draw(output='mpl')\n",
    "\n"
   ]
  },
  {
   "cell_type": "code",
   "execution_count": null,
   "metadata": {},
   "outputs": [],
   "source": [
    "# visualize the transition\n",
    "\n",
    "visualize_transition(qc,fpg=10)"
   ]
  },
  {
   "cell_type": "code",
   "execution_count": null,
   "metadata": {},
   "outputs": [],
   "source": [
    "# create an empty quantum circuit\n",
    "\n",
    "qc=QuantumCircuit(1)\n",
    "\n",
    "# add phase gate \n",
    "qc.h(0)\n",
    "qc.s(0)\n",
    "qc.sdg(0)\n",
    "\n",
    "# draw the circuit\n",
    "\n",
    "qc.draw(output='mpl')\n",
    "\n"
   ]
  },
  {
   "cell_type": "code",
   "execution_count": null,
   "metadata": {},
   "outputs": [],
   "source": [
    "# visualize the transition\n",
    "\n",
    "visualize_transition(qc,fpg=10)"
   ]
  },
  {
   "attachments": {},
   "cell_type": "markdown",
   "metadata": {},
   "source": [
    "**T gate**:\n",
    "- *Create an empty Quantum Circuit.*\n",
    "- *add t gate and pass required rotation angle.[since t gate(phase gate) doesnot map $\\ket{0}$ state, we take our qubit to superposition state by Hadamard gate]*\n",
    "- *draw the circuit*\n",
    "- *visualize the transition.*"
   ]
  },
  {
   "cell_type": "code",
   "execution_count": null,
   "metadata": {},
   "outputs": [],
   "source": [
    "# create an empty quantum circuit\n",
    "\n",
    "qc=QuantumCircuit(1)\n",
    "\n",
    "# add phase gate \n",
    "qc.h(0)\n",
    "qc.t(0)\n",
    "\n",
    "# draw the circuit\n",
    "\n",
    "qc.draw(output='mpl')\n",
    "\n"
   ]
  },
  {
   "cell_type": "code",
   "execution_count": null,
   "metadata": {},
   "outputs": [],
   "source": [
    "# visualize the transition\n",
    "\n",
    "visualize_transition(qc,fpg=10)"
   ]
  },
  {
   "attachments": {},
   "cell_type": "markdown",
   "metadata": {},
   "source": [
    "**T-dagger gate**:\n",
    "- *Create an empty Quantum Circuit.*\n",
    "- *add tdg gate and pass required rotation angle.[since tdg gate(phase gate) doesnot map $\\ket{0}$ state, we take our qubit to superposition state by Hadamard gate]*\n",
    "- *draw the circuit*\n",
    "- *visualize the transition.*"
   ]
  },
  {
   "cell_type": "code",
   "execution_count": null,
   "metadata": {},
   "outputs": [],
   "source": [
    "# create an empty quantum circuit\n",
    "\n",
    "qc=QuantumCircuit(1)\n",
    "\n",
    "# add phase gate \n",
    "qc.x(0)\n",
    "qc.h(0)\n",
    "qc.tdg(0)\n",
    "qc.tdg(0)\n",
    "\n",
    "# draw the circuit\n",
    "\n",
    "qc.draw(output='mpl')\n",
    "\n"
   ]
  },
  {
   "cell_type": "code",
   "execution_count": null,
   "metadata": {},
   "outputs": [],
   "source": [
    "# visualize the transition\n",
    "\n",
    "visualize_transition(qc,fpg=10)"
   ]
  },
  {
   "cell_type": "code",
   "execution_count": null,
   "metadata": {},
   "outputs": [],
   "source": [
    "# create an empty quantum circuit\n",
    "\n",
    "qc=QuantumCircuit(1)\n",
    "\n",
    "# add phase gate \n",
    "qc.h(0)\n",
    "qc.t(0)\n",
    "qc.t(0)\n",
    "qc.tdg(0)\n",
    "qc.tdg(0)\n",
    "\n",
    "# draw the circuit\n",
    "\n",
    "qc.draw(output='mpl')\n",
    "\n"
   ]
  },
  {
   "cell_type": "code",
   "execution_count": null,
   "metadata": {},
   "outputs": [],
   "source": [
    "# visualize the transition\n",
    "\n",
    "visualize_transition(qc,fpg=10)"
   ]
  },
  {
   "attachments": {},
   "cell_type": "markdown",
   "metadata": {},
   "source": [
    "---\n",
    "\n",
    "## The Identity-gate\n",
    "\n",
    "- The I-gate, also known as the Identity gate or Id-gate, is a gate that does nothing. Its matrix is the identity matrix:\n",
    "\n",
    "    $\\quad\\quad\\quad\\quad\\quad\\quad\\quad\n",
    "    I = \\begin{bmatrix}\n",
    "    1 & 0 \\\\\n",
    "    0 & 1 \\\\\n",
    "    \\end{bmatrix}\n",
    "    $\n",
    "\n",
    "- Applying the Identity gate anywhere in your circuit has no effect on the qubit state. \n",
    "- Identity gate has two main purposes.\n",
    "\n",
    "- Firstly, the Identity gate is often used in calculations, such as proving that the X-gate is its own inverse.\n",
    "\n",
    "- Secondly, it is useful when considering real hardware to specify a 'do-nothing' or 'none' operation.\n",
    "    - In practical quantum computing, it is important to have a gate that can be applied to qubits without modifying their state, providing flexibility in circuit design and optimization.\n",
    "\n",
    "---\n",
    "*In Qiskit we have `i()` and `id()` functions to add identity gate*<br>\n",
    "        `   qc=QuantumCircuit(1)`<br>\n",
    "        `\n",
    "        qc.i(0)\n",
    "        `\n",
    "\n",
    "<br>*for further reference, click [here](   https://qiskit.org/documentation/stable/0.19/stubs/qiskit.circuit.QuantumCircuit.id.html  )*\n",
    "\n"
   ]
  },
  {
   "attachments": {},
   "cell_type": "markdown",
   "metadata": {},
   "source": [
    "*`visualize_transition()` does not support id() gate because Identity gate does no operation/ rotation.*\n",
    "- *Create an empty Quantum Circuit.*\n",
    "- *add id gate*\n",
    "- *draw the circuit*\n"
   ]
  },
  {
   "cell_type": "code",
   "execution_count": null,
   "metadata": {},
   "outputs": [],
   "source": [
    "# create an empty quantum circuit\n",
    "\n",
    "qc=QuantumCircuit(1)\n",
    "\n",
    "# add identity gate \n",
    "qc.i(0)\n",
    "qc.id(0)\n",
    "\n",
    "# draw the circuit\n",
    "\n",
    "qc.draw(output='mpl')\n",
    "\n"
   ]
  },
  {
   "attachments": {},
   "cell_type": "markdown",
   "metadata": {},
   "source": [
    "---\n",
    "\n",
    "## <u>Parameterized Rotation Gates:</u>\n",
    "\n",
    "In addition to the fixed Pauli gates and the Identity gate, quantum computing also allows for gates that can perform rotations around specific axes in the Bloch sphere. These gates are known as parameterized rotation gates. They introduce a parameter, usually denoted by a Greek letter, which determines the angle of rotation.\n",
    "\n",
    "> #### **Rx Gate :**\n",
    "\n",
    "- The Rx gate is a parameterized rotation gate that rotates a qubit around the x-axis of the Bloch sphere. <br>It is represented by the following matrix:\n",
    "\n",
    "    $\\quad\\quad\\quad\\quad\\quad\\quad\\quad\n",
    "    Rx(\\theta) = \\begin{bmatrix}\n",
    "    \\cos\\left(\\frac{\\theta}{2}\\right) & -i\\sin\\left(\\frac{\\theta}{2}\\right) \\\\\n",
    "    -i\\sin\\left(\\frac{\\theta}{2}\\right) & \\cos\\left(\\frac{\\theta}{2}\\right)\n",
    "    \\end{bmatrix}\n",
    "    $\n",
    "\n",
    "- The Rx gate applies a rotation of $(\\theta)$ radians around the x-axis. By adjusting the value of $(\\theta)$, we can control the amount of rotation.\n",
    "\n",
    "<br>*for further reference, click [here](  https://qiskit.org/documentation/stubs/qiskit.circuit.QuantumCircuit.rx.html   )*\n",
    "\n",
    "> #### **Ry Gate :**\n",
    "\n",
    "- The Ry gate is another parameterized rotation gate, but this time it rotates a qubit around the y-axis of the Bloch sphere. Its matrix representation is given by:\n",
    "\n",
    "    $\\quad\\quad\\quad\\quad\\quad\\quad\\quad\n",
    "    Ry(\\theta) = \\begin{bmatrix}\n",
    "    \\cos\\left(\\frac{\\theta}{2}\\right) & -\\sin\\left(\\frac{\\theta}{2}\\right) \\\\\n",
    "    \\sin\\left(\\frac{\\theta}{2}\\right) & \\cos\\left(\\frac{\\theta}{2}\\right)\n",
    "    \\end{bmatrix}\n",
    "    $\n",
    "\n",
    "- Similar to the Rx gate, the Ry gate applies a rotation of $(\\theta)$ radians around the y-axis.\n",
    "\n",
    "<br>*for further reference, click [here](   https://qiskit.org/documentation/stubs/qiskit.circuit.QuantumCircuit.ry.html  )*\n",
    "\n",
    "> #### **Rz Gate :**\n",
    "\n",
    "- The Rz gate is the last of the parameterized rotation gates, and it performs rotation around the z-axis of the Bloch sphere. <br>Its matrix is defined as:\n",
    "\n",
    "    $\\quad\\quad\\quad\\quad\\quad\\quad\\quad\n",
    "    Rz(\\phi) = \\begin{bmatrix}\n",
    "    e^{-i\\frac{\\phi}{2}} & 0 \\\\\n",
    "    0 & e^{i\\frac{\\phi}{2}}\n",
    "    \\end{bmatrix}\n",
    "    $\n",
    "\n",
    "- The Rz gate applies a rotation of $(\\phi)$ radians around the z-axis.\n",
    "\n",
    "<br>*for further reference, click [here](    https://qiskit.org/documentation/stubs/qiskit.circuit.QuantumCircuit.rz.html )*\n",
    "\n",
    "---\n",
    "\n",
    "*In Qiskit, these parameterized rotation gates can be applied to a circuit using the corresponding functions: `rx(theta)`, `ry(theta)`, and `rz(phi)`. The angle $(\\theta)$ or $(\\phi)$ determines the amount and direction of rotation, allowing for versatile manipulation of qubit states.*\n",
    "\n",
    "```python\n",
    "qc = QuantumCircuit(1)\n",
    "qc.rx(theta, 0)  # Applying Rx gate with angle theta on qubit 0\n",
    "qc.ry(theta, 0)  # Applying Ry gate with angle theta on qubit 0\n",
    "qc.rz(phi, 0)    # Applying Rz gate with angle phi on qubit 0\n",
    "```\n"
   ]
  },
  {
   "attachments": {},
   "cell_type": "markdown",
   "metadata": {},
   "source": [
    "**RX gate**:\n",
    "- *Create an empty Quantum Circuit.*\n",
    "- *add rx gate and pass required rotation angle $(\\theta)$.*\n",
    "- *draw the circuit*\n",
    "- *visualize the transition.*"
   ]
  },
  {
   "cell_type": "code",
   "execution_count": null,
   "metadata": {},
   "outputs": [],
   "source": [
    "# create an empty quantum circuit\n",
    "theta=np.pi\n",
    "qc=QuantumCircuit(1)\n",
    "\n",
    "# add rx() gate\n",
    "\n",
    "qc.rx(theta,0)\n",
    "\n",
    "# draw the circuit\n",
    "\n",
    "qc.draw(output='mpl')\n",
    "\n"
   ]
  },
  {
   "cell_type": "code",
   "execution_count": null,
   "metadata": {},
   "outputs": [],
   "source": [
    "# visualize the transition\n",
    "\n",
    "visualize_transition(qc,fpg=10)"
   ]
  },
  {
   "attachments": {},
   "cell_type": "markdown",
   "metadata": {},
   "source": [
    "**Ry gate**:\n",
    "- *Create an empty Quantum Circuit.*\n",
    "- *add ry gate and pass required rotation angle $(\\theta)$.*\n",
    "- *draw the circuit*\n",
    "- *visualize the transition.*"
   ]
  },
  {
   "cell_type": "code",
   "execution_count": null,
   "metadata": {},
   "outputs": [],
   "source": [
    "# create an empty quantum circuit\n",
    "theta=np.pi\n",
    "qc=QuantumCircuit(1)\n",
    "\n",
    "# add ry() gate\n",
    "\n",
    "qc.ry(theta,0)\n",
    "\n",
    "# draw the circuit\n",
    "\n",
    "qc.draw(output='mpl')\n",
    "\n"
   ]
  },
  {
   "cell_type": "code",
   "execution_count": null,
   "metadata": {},
   "outputs": [],
   "source": [
    "# visualize the transition\n",
    "\n",
    "visualize_transition(qc,fpg=10)"
   ]
  },
  {
   "attachments": {},
   "cell_type": "markdown",
   "metadata": {},
   "source": [
    "**Rz gate**:\n",
    "- *Create an empty Quantum Circuit.*\n",
    "- *add rx gate and pass required rotation angle $(\\phi)$(since we are already on z-axis, we cannot rotate around z axis. Hence we change our basis state).*\n",
    "- *draw the circuit*\n",
    "- *visualize the transition.*"
   ]
  },
  {
   "cell_type": "code",
   "execution_count": null,
   "metadata": {},
   "outputs": [],
   "source": [
    "# create an empty quantum circuit\n",
    "phi=np.pi\n",
    "qc=QuantumCircuit(1)\n",
    "\n",
    "\n",
    "qc.h(0) # changing basis state\n",
    "\n",
    "# add rz() gate\n",
    "\n",
    "qc.rz(phi,0)\n",
    "\n",
    "# draw the circuit\n",
    "\n",
    "qc.draw(output='mpl')\n",
    "\n"
   ]
  },
  {
   "cell_type": "code",
   "execution_count": null,
   "metadata": {},
   "outputs": [],
   "source": [
    "# visualize the transition\n",
    "\n",
    "visualize_transition(qc,fpg=10)"
   ]
  },
  {
   "attachments": {},
   "cell_type": "markdown",
   "metadata": {},
   "source": [
    "### U Gate:\n",
    "\n",
    "- The U gate, also known as the arbitrary single-qubit gate, is the most general single-qubit gate. It allows for arbitrary rotations around any axis in 3D space.\n",
    "- The U gate is parametrized by three angles: $(\\theta)$, $(\\phi)$, and $(\\lambda)$.\n",
    "\n",
    "- The matrix representation of the U gate is given by:\n",
    "\n",
    "    $\n",
    "    U(\\theta, \\phi, \\lambda) = \\begin{bmatrix}\n",
    "    \\cos\\left(\\frac{\\theta}{2}\\right) & -e^{i\\lambda}\\sin\\left(\\frac{\\theta}{2}\\right) \\\\\n",
    "    e^{i\\phi}\\sin\\left(\\frac{\\theta}{2}\\right) & e^{i(\\phi+\\lambda)}\\cos\\left(\\frac{\\theta}{2}\\right)\n",
    "    \\end{bmatrix}\n",
    "    $\n",
    "\n",
    "- The U gate allows for arbitrary rotations by specifying the angles $(\\theta)$, $(\\phi)$, and $(\\lambda)$, which determine the rotation axis and the amount of rotation.\n",
    "\n",
    "- It is worth noting that many specific gates introduced earlier, such as the H gate and P gate, can be expressed as special cases of the U gate.\n",
    "\n",
    "---\n",
    "\n",
    "*In Qiskit, the U gate can be applied to a circuit using the function `u(theta, phi, lambda, qubit)`, where $(\\theta)$, $(\\phi)$, and $(\\lambda)$ are the rotation parameters and `qubit` is the target qubit.*\n",
    "\n",
    "<br>*for further reference, click [here](   https://qiskit.org/documentation/stubs/qiskit.circuit.QuantumCircuit.u.html  )*\n",
    "\n",
    "```python\n",
    "qc = QuantumCircuit(1)\n",
    "qc.u(theta, phi, lambda, 0)    # Applying the U gate to qubit 0\n"
   ]
  },
  {
   "attachments": {},
   "cell_type": "markdown",
   "metadata": {},
   "source": [
    "---\n",
    "\n",
    "**U gate**:\n",
    "- *Create an empty Quantum Circuit.*\n",
    "- *add U gate and pass required rotation angles $(\\theta,\\phi,\\lambda)$.*\n",
    "- *draw the circuit*\n",
    "- [*visualize_transtion() is not supported for u gate*]\n",
    "\n",
    "---"
   ]
  },
  {
   "cell_type": "code",
   "execution_count": null,
   "metadata": {},
   "outputs": [],
   "source": [
    "# create an empty quantum circuit\n",
    "theta=np.pi/2\n",
    "phi=0\n",
    "lambda_=np.pi\n",
    "qc=QuantumCircuit(1)\n",
    "\n",
    "\n",
    "\n",
    "# add u() gate\n",
    "\n",
    "qc.u(theta,phi,lambda_,0)\n",
    "\n",
    "# draw the circuit\n",
    "\n",
    "qc.draw(output='mpl')\n",
    "\n"
   ]
  },
  {
   "attachments": {},
   "cell_type": "markdown",
   "metadata": {},
   "source": [
    "\n",
    "---\n",
    "## <font color=lightblue><center><b><i>Practice Time!</b></i></center></font>\n",
    "\n",
    "---\n",
    "<b><i>Now that you have learned the single qubit gates , let's put what you've learnt into use. Let's practice!</b></i>\n"
   ]
  },
  {
   "attachments": {},
   "cell_type": "markdown",
   "metadata": {},
   "source": [
    "---\n",
    "\n",
    "#### **Exercise 1** : *Create a Quantum Circuit, add the following gates and draw the circuit.*\n",
    "- x\n",
    "- y\n",
    "- h\n",
    "- z\n",
    "\n",
    "---\n"
   ]
  },
  {
   "cell_type": "code",
   "execution_count": null,
   "metadata": {},
   "outputs": [],
   "source": [
    "\n",
    "\n",
    "\n",
    "\n",
    "\n",
    "#\n",
    "#\n",
    "#your code goes here\n",
    "#\n",
    "#\n",
    "\n",
    "\n",
    "\n",
    "\n"
   ]
  },
  {
   "attachments": {},
   "cell_type": "markdown",
   "metadata": {},
   "source": [
    "<b> *Now lets visualize the transition of your circuit* </b>"
   ]
  },
  {
   "cell_type": "code",
   "execution_count": null,
   "metadata": {},
   "outputs": [],
   "source": [
    "\n",
    "# your code goes here\n"
   ]
  },
  {
   "attachments": {},
   "cell_type": "markdown",
   "metadata": {},
   "source": [
    "---\n",
    "\n",
    "#### **Exercise 2** : *Create a Quantum Circuit, add the following gates and draw the circuit.*\n",
    "- x\n",
    "- h\n",
    "- y\n",
    "- s\n",
    "- z\n",
    "- sdg\n",
    "\n",
    "---\n"
   ]
  },
  {
   "cell_type": "code",
   "execution_count": null,
   "metadata": {},
   "outputs": [],
   "source": [
    "\n",
    "\n",
    "\n",
    "\n",
    "\n",
    "#\n",
    "#\n",
    "#your code goes here\n",
    "#\n",
    "#\n",
    "\n",
    "\n",
    "\n",
    "\n"
   ]
  },
  {
   "attachments": {},
   "cell_type": "markdown",
   "metadata": {},
   "source": [
    "<b> *Now lets visualize the transition of your circuit* </b>"
   ]
  },
  {
   "cell_type": "code",
   "execution_count": null,
   "metadata": {},
   "outputs": [],
   "source": [
    "\n",
    "# your code goes here\n"
   ]
  },
  {
   "attachments": {},
   "cell_type": "markdown",
   "metadata": {},
   "source": [
    "---\n",
    "\n",
    "#### **Exercise 3** : *Create a Quantum Circuit, add the following gates and draw the circuit.*\n",
    "- x\n",
    "- h\n",
    "- s\n",
    "- z\n",
    "- sdg\n",
    "- h\n",
    "\n",
    "---\n"
   ]
  },
  {
   "cell_type": "code",
   "execution_count": null,
   "metadata": {},
   "outputs": [],
   "source": [
    "\n",
    "\n",
    "\n",
    "\n",
    "\n",
    "#\n",
    "#\n",
    "#your code goes here\n",
    "#\n",
    "#\n",
    "\n",
    "\n",
    "\n",
    "\n"
   ]
  },
  {
   "attachments": {},
   "cell_type": "markdown",
   "metadata": {},
   "source": [
    "<b> *Now lets visualize the transition of your circuit* </b>"
   ]
  },
  {
   "cell_type": "code",
   "execution_count": null,
   "metadata": {},
   "outputs": [],
   "source": [
    "\n",
    "# your code goes here\n"
   ]
  },
  {
   "attachments": {},
   "cell_type": "markdown",
   "metadata": {},
   "source": [
    "---\n",
    "\n",
    "#### **Exercise 4** : *Create a Quantum Circuit, add the following gates and draw the circuit.*\n",
    "- x\n",
    "- ry( )        [$theta=\\frac{\\pi}{2}$]\n",
    "- s\n",
    "- rz( ) [$phi=\\pi$]\n",
    "- rz( ) [$phi=-\\frac{\\pi}{2}$]\n",
    "- h\n",
    "\n",
    "---\n"
   ]
  },
  {
   "cell_type": "code",
   "execution_count": null,
   "metadata": {},
   "outputs": [],
   "source": [
    "\n",
    "\n",
    "\n",
    "\n",
    "\n",
    "#\n",
    "#\n",
    "#your code goes here\n",
    "#\n",
    "#\n",
    "\n",
    "\n",
    "\n",
    "\n"
   ]
  },
  {
   "attachments": {},
   "cell_type": "markdown",
   "metadata": {},
   "source": [
    "<b> *Now lets visualize the transition of your circuit* </b>"
   ]
  },
  {
   "cell_type": "code",
   "execution_count": null,
   "metadata": {},
   "outputs": [],
   "source": [
    "\n",
    "# your code goes here\n"
   ]
  },
  {
   "attachments": {},
   "cell_type": "markdown",
   "metadata": {},
   "source": [
    "---\n",
    "\n",
    "#### **Exercise 5** : *Create a Quantum Circuit, add the following gates and draw the circuit.*\n",
    "- y\n",
    "- ry( )        [$theta=\\frac{\\pi}{2}$]\n",
    "- t\n",
    "- s\n",
    "- tdg\n",
    "- rz( ) [$phi=\\pi$]\n",
    "- rz( ) [$phi=-\\frac{\\pi}{2}$]\n",
    "- h\n",
    "\n",
    "---\n"
   ]
  },
  {
   "cell_type": "code",
   "execution_count": null,
   "metadata": {},
   "outputs": [],
   "source": [
    "\n",
    "\n",
    "\n",
    "\n",
    "\n",
    "#\n",
    "#\n",
    "#your code goes here\n",
    "#\n",
    "#\n",
    "\n",
    "\n",
    "\n",
    "\n"
   ]
  },
  {
   "attachments": {},
   "cell_type": "markdown",
   "metadata": {},
   "source": [
    "<b> *Now lets visualize the transition of your circuit* </b>"
   ]
  },
  {
   "cell_type": "code",
   "execution_count": null,
   "metadata": {},
   "outputs": [],
   "source": [
    "\n",
    "# your code goes here\n"
   ]
  },
  {
   "attachments": {},
   "cell_type": "markdown",
   "metadata": {},
   "source": [
    "<b><i><font color=orange>Congratulations! Now you have learnt and practiced the single qubit gates in Quantum Computing. Well Done! Continue learning with the next tutorial on Bloch Sphere representation. All the best!</font></i></b>"
   ]
  },
  {
   "attachments": {},
   "cell_type": "markdown",
   "metadata": {},
   "source": [
    "*Content written by- Akash*"
   ]
  }
 ],
 "metadata": {
  "kernelspec": {
   "display_name": "Python 3",
   "language": "python",
   "name": "python3"
  },
  "language_info": {
   "codemirror_mode": {
    "name": "ipython",
    "version": 3
   },
   "file_extension": ".py",
   "mimetype": "text/x-python",
   "name": "python",
   "nbconvert_exporter": "python",
   "pygments_lexer": "ipython3",
   "version": "3.10.10"
  },
  "orig_nbformat": 4
 },
 "nbformat": 4,
 "nbformat_minor": 2
}
