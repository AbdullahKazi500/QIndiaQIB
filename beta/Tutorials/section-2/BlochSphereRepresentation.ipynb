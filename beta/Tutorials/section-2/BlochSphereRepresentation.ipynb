{
 "cells": [
  {
   "cell_type": "code",
   "execution_count": null,
   "metadata": {},
   "outputs": [],
   "source": [
    "#run this cell to install qiskit \n",
    "#skip this cell if you have pre-installed qiskit library\n",
    "! pip install qiskit"
   ]
  },
  {
   "attachments": {},
   "cell_type": "markdown",
   "metadata": {},
   "source": [
    "*Congratulations! You have learned about the usage of gates in quantum computing. It can be a bit confusing to understand rotations, multi-dimensional vector spaces, and how they relate to qubit manipulation. Don't worry, in this tutorial with Qiskit, we will provide a clear explanation.*\n",
    "\n",
    "---\n",
    "\n",
    "## <center><u>**Bloch sphere**</u></center>\n",
    "In the previous chapters, we learned that a qubit can be represented by the state $\\ket{\\psi} = \\alpha\\ket{0}+e^{i\\phi}\\beta\\ket{1}$.\n",
    "It is important to note that the state of a qubit is always normalized. This means that the sum of the squares of the amplitudes, α and β, should always equal 1:\n",
    "\n",
    "$|\\alpha|^2+|\\beta|^2=1$.\n",
    "\n",
    "This relation might remind you of a trigonometric identity:\n",
    "\n",
    "$\\cos^2{\\theta}+\\sin^2{\\theta}=1$\n",
    "\n",
    "Hence, any state of our qubit can be represented using the angles $\\alpha$ and $\\phi$, where:\n",
    "\n",
    "$\\alpha=\\cos{\\frac{\\theta}{2}}$<br>\n",
    "$\\beta=\\sin{\\frac{\\theta}{2}}$<br>\n",
    "$\\ket{\\psi}=\\cos{\\frac{\\theta}{2}}\\ket{0}+e^{i\\phi}\\sin{\\frac{\\theta}{2}}\\ket{1}$\n",
    "\n",
    "Using these coordinates $(\\theta$,$\\phi)$ and a fixed radius of 1, we can plot the state of any qubit on a sphere called the Bloch sphere. <br>\n",
    "\n",
    "\n",
    "The Bloch sphere is a unit sphere, where the north and south poles represent the basis states |0⟩ and |1⟩, respectively. The points on the surface of the sphere represent superposition states, which are combinations of |0⟩ and |1⟩. By mapping the amplitudes of a qubit's state onto the Bloch sphere, we can easily visualize and analyze the qubit's behavior, such as rotations and transformations, as well as gain insights into quantum operations and quantum gates.\n",
    "<br>\n",
    "<br>\n",
    "Bloch sphere consists of three main axes: the x-axis, y-axis, and z-axis.\n",
    "The x-axis represents the measurement of the qubit in the computational basis, which corresponds to the states |0⟩ and |1⟩. The y-axis represents the measurement in a basis that is rotated 90 degrees from the computational basis. The z-axis represents the measurement in a basis that is aligned with the eigenstates of the qubit's observable.\n",
    "\n",
    "In general, rotations on the Bloch sphere are performed with respect to these three axes. When a rotation is applied to a qubit, it changes the state of the qubit and its representation on the Bloch sphere. The rotation can be described by specifying the angle and the axis of rotation.\n",
    "\n",
    "### *add an image of bloch sphere along with angles*"
   ]
  },
  {
   "attachments": {},
   "cell_type": "markdown",
   "metadata": {},
   "source": [
    "---\n",
    "\n",
    "### Basis :\n",
    "- Basis refers to a set of vectors that can be used to represent and manipulate quantum states. It serves as a *reference framework* for describing the state of a qubit or a quantum system. The most commonly used basis in quantum computing is <font color=orange> *computational basis or z basis*</font>, which consists of two orthogonal states: |0⟩ and |1⟩. These basis states correspond to the two possible outcomes of a qubit measurement.Apart from z basis there are x basis, y basis, bell basis and different others.\n",
    "\n",
    "---"
   ]
  },
  {
   "attachments": {},
   "cell_type": "markdown",
   "metadata": {},
   "source": [
    "#### *Visualzing bloch sphere using qiskit :*\n",
    "\n",
    "    Qiskit contains two functions for plotting bloch sphere and one function for visualizing transition.\n",
    "\n",
    "- *plot_bloch_vector*( ): This function is used to plot a bloch sphere with the specified coordinates. These coordinates can be either cartesian coordinates [x,y,z] or spherical coordinates $[r,\\theta,\\phi]$.\n",
    "<br> *For further reference, click [here](https://qiskit.org/documentation/stubs/qiskit.visualization.plot_bloch_vector.html)*\n",
    "\n",
    "- *plot_bloch_multivector*(  ): This function takes N-qubit quantum state as an input and plot bloch spheres for each qubit. Input can be either a Statevector or Density matrix or ndarray. We generally pass QuantumCircuit object to this function.\n",
    "<br>*for further reference click [here](https://qiskit.org/documentation/stubs/qiskit.visualization.plot_bloch_multivector.html#qiskit.visualization.plot_bloch_multivector)*\n",
    "\n",
    "---\n",
    "\n",
    "Coming to the most interesting part of this tutorial\n",
    "\n",
    "- *visualize_transition*(  ): This function creates transitions between states of a qubit. We can visualize the transition of a qubit when different gates are applied. This function helps you to understand the rotation each gate does.\n",
    "\n",
    "<br> *for further reference, click [here](https://qiskit.org/documentation/stubs/qiskit.visualization.visualize_transition.html)*\n",
    "\n",
    "---\n"
   ]
  },
  {
   "cell_type": "code",
   "execution_count": null,
   "metadata": {},
   "outputs": [],
   "source": [
    "#The following statements import useful libraries containing functions and methods that will help us build the circuit.\n",
    "from qiskit.circuit import QuantumCircuit\n",
    "from qiskit.visualization import plot_bloch_multivector,plot_bloch_vector,visualize_transition\n",
    "from qiskit.quantum_info import random_statevector\n",
    "import numpy as np\n",
    "from math import pi\n",
    "\n",
    "print(' Libraries imported successfully')"
   ]
  },
  {
   "attachments": {},
   "cell_type": "markdown",
   "metadata": {},
   "source": [
    "---\n",
    "\n",
    "#### <u>`plot_bloch_vector()`</u> :\n",
    "- <font color=orange>for cartesian coordinates:</font>\n",
    "    - *import required modules and functions(we have already did in the previous cell).*\n",
    "    - *initialize (create) a list containing coordinates of a single qubit*[ x,y,z].\n",
    "    - *pass the list as an argument to `plot_bloch_vector()`*\n",
    "\n",
    "---"
   ]
  },
  {
   "cell_type": "code",
   "execution_count": null,
   "metadata": {},
   "outputs": [],
   "source": [
    "coordinates=[1,0,0]         #initializing the list with coordinates\n",
    "\n",
    "\n",
    "plot_bloch_vector(coordinates,coord_type='cartesian')   #plotting on bloch sphere\n"
   ]
  },
  {
   "attachments": {},
   "cell_type": "markdown",
   "metadata": {},
   "source": [
    "#### **Exercise :** *plot a bloch sphere for the coordinates pointing positive y axis*"
   ]
  },
  {
   "cell_type": "code",
   "execution_count": null,
   "metadata": {},
   "outputs": [],
   "source": [
    "#initialize the coordinates\n",
    "\n",
    "coordinates=[]#type here\n",
    "\n",
    "# visualize the bloch sphere\n",
    "\n",
    "plot_bloch_vector(coordinates,coord_type='cartesian')"
   ]
  },
  {
   "attachments": {},
   "cell_type": "markdown",
   "metadata": {},
   "source": [
    "---\n",
    "\n",
    "- <font color=orange> for spherical coordinates</font>\n",
    "    - *initialize (create) a list containing spherical coordinates of a single qubit* $[r,\\theta,\\phi]$.\n",
    "    - *pass the list as an argument to `plot_bloch_vector()` by <u>explicitly mentioning as spherical coordinates</u>*.\n",
    "\n",
    "---"
   ]
  },
  {
   "cell_type": "code",
   "execution_count": null,
   "metadata": {},
   "outputs": [],
   "source": [
    "#initialize the coordinates\n",
    "\n",
    "spherical_coords=[1,np.pi/2,np.pi] #[radius,theta,phi]\n",
    "\n",
    "# visualize the bloch sphere\n",
    "\n",
    "plot_bloch_vector(spherical_coords,coord_type='spherical')"
   ]
  },
  {
   "attachments": {},
   "cell_type": "markdown",
   "metadata": {},
   "source": [
    "#### Exercise: *plot a bloch sphere representing qubit state* $\\ket{\\psi}=\\frac{1}{\\sqrt{2}}\\ket{0}+\\frac{1}{\\sqrt{2}}\\ket{1}$"
   ]
  },
  {
   "cell_type": "code",
   "execution_count": null,
   "metadata": {},
   "outputs": [],
   "source": [
    "#hint: find theta and phi at first\n",
    "\n",
    "#initialize the coordinates\n",
    "spherical_coords=['''your code here'''] #[radius,theta,phi]\n",
    "\n",
    "# visualize the bloch sphere\n",
    "plot_bloch_vector(spherical_coords,coord_type='spherical')"
   ]
  },
  {
   "attachments": {},
   "cell_type": "markdown",
   "metadata": {},
   "source": [
    "---\n",
    "\n",
    " #### <u>`plot_bloch_multivector()`:</u>\n",
    "we can either pass a statevector or density matrix or QuantumCircuit<br>\n",
    "- <font color=orange> through Statevector</font>:\n",
    "    - *initialize a list or numpy array with statevector.*\n",
    "    - *pass the list or array as a parameter to `plot_bloch_multivector()`.* \n",
    "\n",
    "---"
   ]
  },
  {
   "cell_type": "code",
   "execution_count": null,
   "metadata": {},
   "outputs": [],
   "source": [
    "#initialize the statevector\n",
    "\n",
    "statevector=[0,0,0,1]       \n",
    "\n",
    "#plot the bloch sphere\n",
    "\n",
    "plot_bloch_multivector(statevector)     "
   ]
  },
  {
   "attachments": {},
   "cell_type": "markdown",
   "metadata": {},
   "source": [
    "#### *We can use `random_statevector()` to generate a random statevector.*\n",
    "*we have to pass number of dimensions as a parameter to generate statevector*<br>\n",
    "*Generally n qubits consists $2^n$ dimensions*"
   ]
  },
  {
   "cell_type": "code",
   "execution_count": null,
   "metadata": {},
   "outputs": [],
   "source": [
    "#initialize the statevector\n",
    "\n",
    "random_statevec=random_statevector(4)\n",
    "\n",
    "# plot the bloch sphere\n",
    "\n",
    "plot_bloch_multivector(random_statevec)"
   ]
  },
  {
   "attachments": {},
   "cell_type": "markdown",
   "metadata": {},
   "source": [
    "#### Exercise: *plot a bloch sphere for 3 qubit random statevector using random_statevector()*"
   ]
  },
  {
   "cell_type": "code",
   "execution_count": null,
   "metadata": {},
   "outputs": [],
   "source": [
    "#initialize the statevector\n",
    "\n",
    "\n",
    "random_state=random_statevector(  '''pass number of dimensions'''  )\n",
    "\n",
    "# plot the bloch sphere\n",
    "\n",
    "plot_bloch_multivector(random_state)"
   ]
  },
  {
   "attachments": {},
   "cell_type": "markdown",
   "metadata": {},
   "source": [
    "- `plot_bloch_multivector()` through QuantumCircuit\n",
    "    - *create a Quantum Circuit*\n",
    "    - *add required gates*\n",
    "    - *pass the QuantumCircuit (object) to `plot_bloch_multivector()`*"
   ]
  },
  {
   "cell_type": "code",
   "execution_count": null,
   "metadata": {},
   "outputs": [],
   "source": [
    "#create a quantum circuit\n",
    "qc=QuantumCircuit(2)\n",
    "\n",
    "#add gates\n",
    "\n",
    "qc.x(0)\n",
    "qc.h(1)\n",
    "\n",
    "#pass circuit to plot_bloch_multivector()\n",
    "\n",
    "plot_bloch_multivector(qc)"
   ]
  },
  {
   "attachments": {},
   "cell_type": "markdown",
   "metadata": {},
   "source": [
    "#### <u>`visualize_transition()`</u> :\n",
    "- *create a quantum circuit containing single qubit*\n",
    "- *add gates*\n",
    "- *pass quantum circuit (object) to `visualize_transition()`*\n",
    "- *click on play button to visualize the transition*"
   ]
  },
  {
   "cell_type": "code",
   "execution_count": null,
   "metadata": {},
   "outputs": [],
   "source": [
    "#create a QuantumCircuit\n",
    "qc=QuantumCircuit(1)\n",
    "\n",
    "#add gates\n",
    "\n",
    "qc.x(0)\n",
    "qc.h(0)\n",
    "\n",
    "# visualize the transition\n",
    "\n",
    "visualize_transition(qc)#click on play button to view transition"
   ]
  },
  {
   "attachments": {},
   "cell_type": "markdown",
   "metadata": {},
   "source": [
    "#### *To reduce the execution time of `visualize_transition()`, reduce the frames per gate by explicitly passing the keyword argument `fpg= `*<br>\n",
    "*lesser the fpg, faster the execution*"
   ]
  },
  {
   "cell_type": "code",
   "execution_count": null,
   "metadata": {},
   "outputs": [],
   "source": [
    "#create a QuantumCircuit\n",
    "qc=QuantumCircuit(1)\n",
    "\n",
    "#add gates\n",
    "\n",
    "qc.x(0)\n",
    "qc.h(0)\n",
    "\n",
    "# visualize the transition\n",
    "\n",
    "visualize_transition(qc,fpg=10)#click on play button to view transition"
   ]
  },
  {
   "attachments": {},
   "cell_type": "markdown",
   "metadata": {},
   "source": [
    "#### Exercise: *visualize transition for a quantum circuit by adding these gates*\n",
    "- x\n",
    "- h\n",
    "- s\n",
    "- t\n",
    "- t\n",
    "- h"
   ]
  },
  {
   "cell_type": "code",
   "execution_count": null,
   "metadata": {},
   "outputs": [],
   "source": [
    "# create a QuantumCircuit\n",
    "qc=QuantumCircuit(1)\n",
    "\n",
    "\n",
    "\n",
    "#add gates\n",
    "\n",
    "\n",
    "\n",
    "#visualize the transition\n",
    "visualize_transition(qc)"
   ]
  },
  {
   "attachments": {},
   "cell_type": "markdown",
   "metadata": {},
   "source": [
    "<b><i><font color=orange>Congratulations! Now you have learnt and practiced the Bloch Sphere representation in Quantum Computing. Well Done! Continue learning with the next tutorial on multiple qubit gates. All the best!</font></i></b>"
   ]
  },
  {
   "attachments": {},
   "cell_type": "markdown",
   "metadata": {},
   "source": [
    "*Content written by- Akash*"
   ]
  }
 ],
 "metadata": {
  "kernelspec": {
   "display_name": "Python 3",
   "language": "python",
   "name": "python3"
  },
  "language_info": {
   "codemirror_mode": {
    "name": "ipython",
    "version": 3
   },
   "file_extension": ".py",
   "mimetype": "text/x-python",
   "name": "python",
   "nbconvert_exporter": "python",
   "pygments_lexer": "ipython3",
   "version": "3.10.10"
  },
  "orig_nbformat": 4
 },
 "nbformat": 4,
 "nbformat_minor": 2
}
