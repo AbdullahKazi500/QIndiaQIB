{
 "cells": [
  {
   "cell_type": "code",
   "execution_count": null,
   "metadata": {},
   "outputs": [],
   "source": [
    "#run this cell to install qiskit \n",
    "#skip this cell if you have pre-installed qiskit library or if you are running on IBM-Quantum\n",
    "! pip install qiskit"
   ]
  },
  {
   "attachments": {},
   "cell_type": "markdown",
   "metadata": {},
   "source": [
    "# <center><u>Introduction to Multi-Qubit Gates</u></center>\n",
    "\n",
    "- In quantum computing, multi-qubit gates are used to manipulate the state of multiple qubits simultaneously. <br>\n",
    "- These gates allow for entanglement, superposition, and the execution of quantum algorithms that involve interactions between qubits.\n",
    "- There are different multi-qubit gates, such as:\n",
    "    - cx gate\n",
    "    - cy gate\n",
    "    - cz gate\n",
    "    - ccx gate\n",
    "    - crx gate\n",
    "    - cry gate\n",
    "    - crz gate\n",
    "    - cp gate\n",
    "    - swap gate\n",
    "    - and many others.\n",
    "- We will go through limited number of multi-qubit gates in this tutorial.\n",
    "\n",
    "---\n",
    "\n",
    "> #### **CNOT Gate:**\n",
    "\n",
    "- The CNOT gate, also known as the Controlled-X gate, is one of the most fundamental multi-qubit gates. \n",
    "<br><br>\n",
    "- It performs a controlled NOT operation on two qubits: \n",
    "the control qubit and the target qubit. \n",
    "<br>\n",
    "<br>\n",
    "- If the control qubit is in state |1⟩, it applies an X gate (bit-flip) operation to the target qubit; <br>otherwise, it leaves the target qubit unchanged.\n",
    "<br>\n",
    "\n",
    "- The matrix representation of the CNOT gate is:\n",
    "<center>\n",
    "\n",
    "$\n",
    "CX = \\begin{bmatrix} \n",
    "1 & 0 & 0 & 0 \\\\\n",
    "0 & 0 & 0 & 1 \\\\\n",
    "0 & 0 & 1 & 0 \\\\\n",
    "0 & 1 & 0 & 0 \\\\\n",
    "\\end{bmatrix}\n",
    "$\n",
    "\n",
    "</center>\n",
    "<br>\n",
    "*Note: This matrix follows qiskit qubit ordering and here first qubit is a control and second qubit is target.*\n",
    "- Using little endian odering, the right qubit being the first qubit and the left qubit being the second qubit. $\\ket{qubit_2,qubit_1}$ let's see what the CX or CNOT gate does.\n",
    "\n",
    "<center>\n",
    "\n",
    "$\\ket{0,0}-CX->\\ket{0,0}$\n",
    "\n",
    "$\\ket{1,0}-CX->\\ket{1,0}$\n",
    "\n",
    "$\\ket{0,1}-CX->\\ket{1,1}$\n",
    "\n",
    "$\\ket{1,1}-CX->\\ket{0,1}$\n",
    "\n",
    "</center>\n",
    "\n",
    "---\n",
    "\n",
    "\n",
    "In Qiskit, you can apply the CNOT gate using the function `cx(control_qubit, target_qubit)` or `cnot(control_qubit, target_qubit)`.\n",
    "\n",
    "```python\n",
    "qc = QuantumCircuit(2)\n",
    "qc.cx(0, 1)    # Applying CNOT gate with qubit 0 as the control qubit and qubit 1 as the target qubit\n",
    "qc.cnot(0,1)\n",
    "```\n",
    "\n",
    "*for further reference, click [here](  https://qiskit.org/documentation/stubs/qiskit.circuit.QuantumCircuit.cx.html   )*\n"
   ]
  },
  {
   "cell_type": "code",
   "execution_count": null,
   "metadata": {},
   "outputs": [],
   "source": [
    "# The following statements import useful libraries containing functions and methods that will help us build the circuit.\n",
    "\n",
    "import numpy as np\n",
    "from qiskit.circuit import QuantumCircuit\n",
    "from qiskit.circuit import *\n",
    "from qiskit.visualization import *\n",
    "from qiskit import execute\n",
    "from qiskit_aer import Aer\n",
    "import qiskit.tools.jupyter\n",
    "from qiskit.visualization import plot_bloch_multivector,plot_bloch_vector,visualize_transition\n",
    "backend=Aer.get_backend('aer_simulator')\n",
    "print(\"Libraries imported successfully\")"
   ]
  },
  {
   "attachments": {},
   "cell_type": "markdown",
   "metadata": {},
   "source": [
    "*Note: It is not possible to visualize the transition of multi-qubit gates. Hence, we view measurement results through histograms to understand the effect of these gates.*\n",
    "\n",
    "---"
   ]
  },
  {
   "attachments": {},
   "cell_type": "markdown",
   "metadata": {},
   "source": [
    "- *create an empty Quantum circuit with multiple qubits and classical bits.*\n",
    "- *add `cx() or `cnot()` gate*.\n",
    "- *measure and draw the circuit.*\n",
    "- *plot histograms to view measurements results.*\n",
    "\n",
    "---"
   ]
  },
  {
   "cell_type": "code",
   "execution_count": null,
   "metadata": {},
   "outputs": [],
   "source": [
    "# creating an empty quantum circuit\n",
    "qc=QuantumCircuit(2,2)\n",
    "\n",
    "# add gates\n",
    "\n",
    "qc.x(0)\n",
    "qc.cx(0,1)\n",
    "\n",
    "# measuring the circuit\n",
    "qc.measure([0,1],[0,1])\n",
    "\n",
    "# draw the circuit\n",
    "\n",
    "qc.draw(output='mpl')\n"
   ]
  },
  {
   "attachments": {},
   "cell_type": "markdown",
   "metadata": {},
   "source": [
    "**Note :** *please don't change any code in the below cell, it is for plotting histogram results.*"
   ]
  },
  {
   "cell_type": "code",
   "execution_count": null,
   "metadata": {},
   "outputs": [],
   "source": [
    "# executing the circuit\n",
    "\n",
    "job=execute(qc,shots=1024,backend=backend)\n",
    "\n",
    "# getting counts from executed results\n",
    "\n",
    "results=job.result().get_counts()\n",
    "\n",
    "# plotting the histogram\n",
    "\n",
    "plot_histogram(results)"
   ]
  },
  {
   "attachments": {},
   "cell_type": "markdown",
   "metadata": {},
   "source": [
    "#### *From the above results, you can see that when the state of our first qubit is 1, the state of the second qubit changes to 1, which leads to our output* $\\ket{11}$."
   ]
  },
  {
   "attachments": {},
   "cell_type": "markdown",
   "metadata": {},
   "source": [
    "---\n",
    "\n",
    "> #### **CY (Controlled-Y) Gate:**\n",
    "\n",
    "- The CY gate is a two-qubit gate that performs a controlled-Y operation. \n",
    "- It applies a Y gate (similar to a Pauli-Y gate) to the target qubit if and only if the control qubit is in the state |1⟩. - The matrix representation of the CY gate is:\n",
    "<center>\n",
    "\n",
    "$\n",
    "CY = \\begin{bmatrix}\n",
    "1 & 0 & 0 & 0 \\\\\n",
    "0 & 1 & 0 & -i \\\\\n",
    "0 & 0 & 1 & 0 \\\\\n",
    "0 & i & 0 & 0 \\\\\n",
    "\\end{bmatrix}\n",
    "$\n",
    "\n",
    "</center>\n",
    "In Qiskit, you can use the `cy(control_qubit, target_qubit)` method to apply the CY gate to your quantum circuit.\n",
    "\n",
    "<br>*for further reference, click [here](   https://qiskit.org/documentation/stubs/qiskit.circuit.QuantumCircuit.cy.html  )*\n",
    "\n",
    "---\n",
    "\n",
    "> #### **CZ (Controlled-Z) Gate:**\n",
    "\n",
    "- The CZ gate is another two-qubit gate that performs a controlled-Z operation. \n",
    "- It applies a Z gate to the target qubit if and only if the control qubit is in the state |1⟩. \n",
    "- The matrix representation of the CZ gate is:\n",
    "<center>\n",
    "\n",
    "$\n",
    "CZ = \\begin{bmatrix}\n",
    "1 & 0 & 0 & 0 \\\\\n",
    "0 & 1 & 0 & 0 \\\\\n",
    "0 & 0 & 1 & 0 \\\\\n",
    "0 & 0 & 0 & -1 \\\\\n",
    "\\end{bmatrix}\n",
    "$\n",
    "\n",
    "</center>\n",
    "---\n",
    "\n",
    "- In Qiskit, you can use the `cz(control_qubit, target_qubit)` method to apply the CZ gate to your quantum circuit.\n",
    "- Unlike some other controlled gates, such as the controlled-X (CNOT) gate, the ordering of the control and target qubits does not matter for the CZ (controlled-Z) gate.\n",
    "- <font color=orange> Swapping the control and target qubits will not change the resulting operation performed by the CZ gate.</font>\n",
    "\n",
    "\n",
    "```python\n",
    "from qiskit import QuantumCircuit\n",
    "\n",
    "# Create a quantum circuit with two qubits\n",
    "qc = QuantumCircuit(2)\n",
    "\n",
    "# Apply the CY gate with qubit 0 as the control and qubit 1 as the target\n",
    "qc.cy(0, 1)\n",
    "\n",
    "# Apply the CZ gate with qubit 0 as the control and qubit 1 as the target\n",
    "qc.cz(0, 1)\n",
    "```\n",
    "---\n",
    "\n",
    "*for further reference, click [here](   https://qiskit.org/documentation/stubs/qiskit.circuit.QuantumCircuit.cz.html  )*"
   ]
  },
  {
   "attachments": {},
   "cell_type": "markdown",
   "metadata": {},
   "source": [
    "- *create an empty Quantum circuit with multiple qubits and classical bits.*\n",
    "- *add `cy()` gate*.\n",
    "- *measure and draw the circuit.*\n",
    "- *plot histograms to view measurements results.*\n",
    "\n",
    "---"
   ]
  },
  {
   "cell_type": "code",
   "execution_count": null,
   "metadata": {},
   "outputs": [],
   "source": [
    "# creating an empty quantum circuit\n",
    "qc=QuantumCircuit(2,2)\n",
    "\n",
    "# add gates\n",
    "\n",
    "qc.x(0)\n",
    "qc.cy(0,1)\n",
    "\n",
    "# measuring the circuit\n",
    "qc.measure([0,1],[0,1])\n",
    "\n",
    "# draw the circuit\n",
    "\n",
    "qc.draw(output='mpl')\n"
   ]
  },
  {
   "attachments": {},
   "cell_type": "markdown",
   "metadata": {},
   "source": [
    "**Note :** *please don't change any code in the below cell, it is for plotting histogram results.*"
   ]
  },
  {
   "cell_type": "code",
   "execution_count": null,
   "metadata": {},
   "outputs": [],
   "source": [
    "# executing the circuit\n",
    "\n",
    "job=execute(qc,shots=1024,backend=backend)\n",
    "\n",
    "# getting counts from executed results\n",
    "\n",
    "results=job.result().get_counts()\n",
    "\n",
    "# plotting the histogram\n",
    "\n",
    "plot_histogram(results)"
   ]
  },
  {
   "attachments": {},
   "cell_type": "markdown",
   "metadata": {},
   "source": [
    "#### *From the above results, you can see that when the state of our first qubit is 1, the state of the second qubit changes to 1, which leads to our output* $\\ket{11}$."
   ]
  },
  {
   "attachments": {},
   "cell_type": "markdown",
   "metadata": {},
   "source": [
    "- *create an empty Quantum circuit with multiple qubits and classical bits.*\n",
    "- *add `cz()` gate*.\n",
    "- *measure and draw the circuit.*\n",
    "- *plot histograms to view measurements results.*\n",
    "\n",
    "---"
   ]
  },
  {
   "cell_type": "code",
   "execution_count": null,
   "metadata": {},
   "outputs": [],
   "source": [
    "# creating an empty quantum circuit\n",
    "qc=QuantumCircuit(2,2)\n",
    "\n",
    "# add gates\n",
    "qc.x(0)\n",
    "qc.h(1)\n",
    "qc.cz(0,1)\n",
    "qc.h(1)\n",
    "\n",
    "# measuring the circuit\n",
    "qc.measure([0,1],[0,1])\n",
    "\n",
    "# draw the circuit\n",
    "\n",
    "qc.draw(output='mpl')\n"
   ]
  },
  {
   "attachments": {},
   "cell_type": "markdown",
   "metadata": {},
   "source": [
    "**Note :** *please don't change any code in the below cell, it is for plotting histogram results.*"
   ]
  },
  {
   "cell_type": "code",
   "execution_count": null,
   "metadata": {},
   "outputs": [],
   "source": [
    "# executing the circuit\n",
    "\n",
    "job=execute(qc,shots=1024,backend=backend)\n",
    "\n",
    "# getting counts from executed results\n",
    "\n",
    "results=job.result().get_counts()\n",
    "\n",
    "# plotting the histogram\n",
    "\n",
    "plot_histogram(results)"
   ]
  },
  {
   "attachments": {},
   "cell_type": "markdown",
   "metadata": {},
   "source": [
    "#### *From the above results, you can see that when the state of our first qubit is 1, the state of the second qubit changes to 1, which leads to our output* $\\ket{11}$."
   ]
  },
  {
   "attachments": {},
   "cell_type": "markdown",
   "metadata": {},
   "source": [
    "> #### **swap gate :**\n",
    "\n",
    "- The SWAP gate is a fundamental multi-qubit gate that exchanges the states of two qubits. \n",
    "- It is commonly used in quantum algorithms and circuit designs for various purposes, such as <font color=orange>rearranging qubit states, implementing quantum teleportation, and performing qubit permutations.</font>\n",
    "\n",
    "- The SWAP gate can be represented by the following matrix:\n",
    "\n",
    "<center>\n",
    "\n",
    "$\n",
    "\\text{SWAP} = \\begin{bmatrix}\n",
    "1 & 0 & 0 & 0 \\\\\n",
    "0 & 0 & 1 & 0 \\\\\n",
    "0 & 1 & 0 & 0 \\\\\n",
    "0 & 0 & 0 & 1 \\\\\n",
    "\\end{bmatrix}\n",
    "$\n",
    "\n",
    "\n",
    "</center>\n",
    "\n",
    "- When applied to a pair of qubits, the SWAP gate swaps the quantum states of the two qubits.\n",
    "\n",
    "- In Qiskit, you can use the `swap(qubit1, qubit2)` method to apply the SWAP gate between two qubits. \n",
    "- The ordering of the qubits determines which qubit state is swapped with the other. \n",
    "- For example, `swap(0, 1)` swaps the state of qubit 0 with qubit 1, while `swap(1, 0)` swaps the state of qubit 1 with qubit 0.\n",
    "\n",
    "<br>*for further reference, click [here](  https://qiskit.org/documentation/stubs/qiskit.circuit.QuantumCircuit.swap.html   )*"
   ]
  },
  {
   "attachments": {},
   "cell_type": "markdown",
   "metadata": {},
   "source": [
    "- *create an empty Quantum circuit with multiple qubits and classical bits.*\n",
    "- *add `swap()` gate*.\n",
    "- *measure and draw the circuit.*\n",
    "- *plot histograms to view measurements results.*\n",
    "\n",
    "---"
   ]
  },
  {
   "cell_type": "code",
   "execution_count": null,
   "metadata": {},
   "outputs": [],
   "source": [
    "# creating an empty quantum circuit\n",
    "qc=QuantumCircuit(2,2)\n",
    "\n",
    "# add gates\n",
    "qc.x(0)\n",
    "qc.swap(0,1)\n",
    "\n",
    "# measuring the circuit\n",
    "qc.measure([0,1],[0,1])\n",
    "\n",
    "# draw the circuit\n",
    "\n",
    "qc.draw(output='mpl')\n"
   ]
  },
  {
   "attachments": {},
   "cell_type": "markdown",
   "metadata": {},
   "source": [
    "**Note :** *please don't change any code in the below cell, it is for plotting histogram results.*"
   ]
  },
  {
   "cell_type": "code",
   "execution_count": null,
   "metadata": {},
   "outputs": [],
   "source": [
    "# executing the circuit\n",
    "\n",
    "job=execute(qc,shots=1024,backend=backend)\n",
    "\n",
    "# getting counts from executed results\n",
    "\n",
    "results=job.result().get_counts()\n",
    "\n",
    "# plotting the histogram\n",
    "\n",
    "plot_histogram(results)"
   ]
  },
  {
   "attachments": {},
   "cell_type": "markdown",
   "metadata": {},
   "source": [
    "#### *From the above results, you can see that the states of qubit 0 and qubit 1 are swapped, which leads to our output* $\\ket{10}$."
   ]
  },
  {
   "attachments": {},
   "cell_type": "markdown",
   "metadata": {},
   "source": [
    "---\n",
    "\n",
    "## Controlled-Rotation Gates\n",
    "\n",
    "- In quantum computing, controlled-rotation gates are multi-qubit gates that perform a rotation on a target qubit based on the state of a control qubit. \n",
    "- There are several types of controlled-rotation gates, including CRX, CRY, and CRZ gates.\n",
    "\n",
    "---\n",
    "\n",
    "> #### **CRX Gate :**\n",
    "\n",
    "- The CRX gate applies a rotation around the X-axis to the target qubit if and only if the control qubit is in the state $\\ket{1}$.\n",
    "\n",
    "- The angle $\\theta$ determines the amount of rotation around the X-axis.\n",
    "\n",
    "<br>*for further reference, click [here](    https://qiskit.org/documentation/stubs/qiskit.circuit.QuantumCircuit.crx.html )*\n",
    "\n",
    "> #### **CRY Gate :**\n",
    "\n",
    "- The CRY gate performs a rotation around the Y-axis on the target qubit if and only if the control qubit is in the state $\\ket{1}$.\n",
    "- The angle $\\theta$ determines the amount of rotation around the Y-axis.\n",
    "\n",
    "<br>*for further reference, click [here](   https://qiskit.org/documentation/stubs/qiskit.circuit.QuantumCircuit.cry.html  )*\n",
    "\n",
    "> #### **CRZ Gate :**\n",
    "\n",
    "- The CRZ gate applies a rotation around the Z-axis to the target qubit if and only if the control qubit is in the state $\\ket{1}$.\n",
    "\n",
    "- The angle $\\phi$ determines the amount of rotation around the Z-axis.\n",
    "\n",
    "<br>*for further reference, click [here](  https://qiskit.org/documentation/stubs/qiskit.circuit.QuantumCircuit.crz.html   )*\n",
    "\n",
    "---\n",
    "\n",
    "In Qiskit, you can use the `crx`, `cry`, and `crz` functions to apply CRX, CRY, and CRZ gates to your quantum circuit, respectively.\n",
    "\n",
    "```python\n",
    "qc = QuantumCircuit(2)\n",
    "qc.crx(theta, control_qubit, target_qubit)\n",
    "qc.cry(theta, control_qubit, target_qubit)\n",
    "qc.crz(phi, control_qubit, target_qubit)\n",
    "```\n",
    "---\n"
   ]
  },
  {
   "attachments": {},
   "cell_type": "markdown",
   "metadata": {},
   "source": [
    "<b> `crx()` gate : </b>\n",
    "\n",
    "- *create an empty Quantum circuit with multiple qubits and classical bits.*\n",
    "- *add `crx()` gate and pass required rotation angle, control qubit and target qubit*.\n",
    "- *measure and draw the circuit.*\n",
    "- *plot histograms to view measurements results.*\n",
    "\n",
    "---"
   ]
  },
  {
   "cell_type": "code",
   "execution_count": null,
   "metadata": {},
   "outputs": [],
   "source": [
    "# creating an empty quantum circuit\n",
    "qc=QuantumCircuit(2,2)\n",
    "theta=np.pi\n",
    "\n",
    "# add gates\n",
    "qc.x(0)\n",
    "qc.crx(theta,0,1)\n",
    "\n",
    "# measuring the circuit\n",
    "qc.measure([0,1],[0,1])\n",
    "\n",
    "# draw the circuit\n",
    "\n",
    "qc.draw(output='mpl')\n"
   ]
  },
  {
   "attachments": {},
   "cell_type": "markdown",
   "metadata": {},
   "source": [
    "**Note :** *please don't change any code in the below cell, it is for plotting histogram results.*"
   ]
  },
  {
   "cell_type": "code",
   "execution_count": null,
   "metadata": {},
   "outputs": [],
   "source": [
    "# executing the circuit\n",
    "\n",
    "job=execute(qc,shots=1024,backend=backend)\n",
    "\n",
    "# getting counts from executed results\n",
    "\n",
    "results=job.result().get_counts()\n",
    "\n",
    "# plotting the histogram\n",
    "\n",
    "plot_histogram(results)"
   ]
  },
  {
   "attachments": {},
   "cell_type": "markdown",
   "metadata": {},
   "source": [
    "#### *From the above results, you can see that when the state of our first qubit is 1, our second qubit rotates around X-axis by $\\pi$ radians such that the state of the second qubit changes to 1, which leads to our output* $\\ket{11}$."
   ]
  },
  {
   "attachments": {},
   "cell_type": "markdown",
   "metadata": {},
   "source": [
    "<b> `cry()` gate : </b>\n",
    "\n",
    "- *create an empty Quantum circuit with multiple qubits and classical bits.*\n",
    "- *add `cry()` gate and pass required rotation angle, control qubit and target qubit*.\n",
    "- *measure and draw the circuit.*\n",
    "- *plot histograms to view measurements results.*\n",
    "\n",
    "---"
   ]
  },
  {
   "cell_type": "code",
   "execution_count": null,
   "metadata": {},
   "outputs": [],
   "source": [
    "# creating an empty quantum circuit\n",
    "qc=QuantumCircuit(2,2)\n",
    "theta=np.pi\n",
    "\n",
    "# add gates\n",
    "qc.x(0)\n",
    "qc.cry(theta,0,1)\n",
    "\n",
    "# measuring the circuit\n",
    "qc.measure([0,1],[0,1])\n",
    "\n",
    "# draw the circuit\n",
    "\n",
    "qc.draw(output='mpl')\n"
   ]
  },
  {
   "attachments": {},
   "cell_type": "markdown",
   "metadata": {},
   "source": [
    "**Note :** *please don't change any code in the below cell, it is for plotting histogram results.*"
   ]
  },
  {
   "cell_type": "code",
   "execution_count": null,
   "metadata": {},
   "outputs": [],
   "source": [
    "# executing the circuit\n",
    "\n",
    "job=execute(qc,shots=1024,backend=backend)\n",
    "\n",
    "# getting counts from executed results\n",
    "\n",
    "results=job.result().get_counts()\n",
    "\n",
    "# plotting the histogram\n",
    "\n",
    "plot_histogram(results)"
   ]
  },
  {
   "attachments": {},
   "cell_type": "markdown",
   "metadata": {},
   "source": [
    "#### *From the above results, you can see that when the state of our first qubit is 1, our second qubit rotates around Y-axis by $\\pi$ radians such that the state of the second qubit changes to 1, which leads to our output* $\\ket{11}$."
   ]
  },
  {
   "attachments": {},
   "cell_type": "markdown",
   "metadata": {},
   "source": [
    "<b> `crz()` gate : </b>\n",
    "\n",
    "- *create an empty Quantum circuit with multiple qubits and classical bits.*\n",
    "- *add `crz()` gate and pass required rotation angle, control qubit and target qubit*.\n",
    "- *measure and draw the circuit.*\n",
    "- *plot histograms to view measurements results.*\n",
    "\n",
    "---"
   ]
  },
  {
   "cell_type": "code",
   "execution_count": null,
   "metadata": {},
   "outputs": [],
   "source": [
    "# creating an empty quantum circuit\n",
    "qc=QuantumCircuit(2,2)\n",
    "theta=np.pi\n",
    "\n",
    "# add gates\n",
    "\n",
    "qc.x(0)\n",
    "qc.h(1)\n",
    "qc.cry(theta,0,1)\n",
    "qc.h(1)\n",
    "\n",
    "\n",
    "# measuring the circuit\n",
    "qc.measure([0,1],[0,1])\n",
    "\n",
    "# draw the circuit\n",
    "\n",
    "qc.draw(output='mpl')\n"
   ]
  },
  {
   "attachments": {},
   "cell_type": "markdown",
   "metadata": {},
   "source": [
    "**Note :** *please don't change any code in the below cell, it is for plotting histogram results.*"
   ]
  },
  {
   "cell_type": "code",
   "execution_count": null,
   "metadata": {},
   "outputs": [],
   "source": [
    "# executing the circuit\n",
    "\n",
    "job=execute(qc,shots=1024,backend=backend)\n",
    "\n",
    "# getting counts from executed results\n",
    "\n",
    "results=job.result().get_counts()\n",
    "\n",
    "# plotting the histogram\n",
    "\n",
    "plot_histogram(results)"
   ]
  },
  {
   "attachments": {},
   "cell_type": "markdown",
   "metadata": {},
   "source": [
    "#### *From the above results, you can see that when the state of our first qubit is 1, our second qubit rotates around Z-axis by $\\pi$ radians such that the state of the second qubit changes to 1, which leads to our output* $\\ket{11}$."
   ]
  },
  {
   "attachments": {},
   "cell_type": "markdown",
   "metadata": {},
   "source": [
    "> #### **Controlled-Phase (CP) Gate :**\n",
    "\n",
    "- The Controlled-Phase (CP) gate is a commonly used multi-qubit gate in quantum algorithms.\n",
    "- It performs a phase shift on the target qubit based on the state of the control qubit. \n",
    "- The CP gate is particularly important in many quantum algorithms, including quantum error correction and quantum phase estimation.\n",
    "- <font color=orange> The CP gate applies a phase shift of</font> $e^{i\\phi}$ <font color=orange>to the target qubit if and only if the control qubit is in the state </font> $\\ket{1}$. \n",
    "- The matrix representation of the CP gate is as follows:\n",
    "    <center>\n",
    "\n",
    "    $CP(\\phi) = \\begin{bmatrix} \n",
    "    1 & 0 & 0 & 0 \\\\\n",
    "    0 & 1 & 0 & 0 \\\\\n",
    "    0 & 0 & 1 & 0 \\\\\n",
    "    0 & 0 & 0 & e^{i\\phi} \\\\\n",
    "    \\end{bmatrix}$\n",
    "\n",
    "    </center>\n",
    "\n",
    "    - The angle $\\phi$ determines the phase shift applied to the target qubit.\n",
    "\n",
    "\n",
    "---\n",
    "\n",
    "In Qiskit, you can use the `cp` function to apply the CP gate to your quantum circuit. Specify the angle $\\phi$ and the control/target qubits based on your circuit requirements.\n",
    "\n",
    "```python\n",
    "qc = QuantumCircuit(2)\n",
    "qc.cp(phi, control_qubit, target_qubit)\n",
    "```\n",
    "<br>*for further reference, click [here](   https://qiskit.org/documentation/stubs/qiskit.circuit.QuantumCircuit.cp.html  )*\n",
    "\n",
    "---\n"
   ]
  },
  {
   "attachments": {},
   "cell_type": "markdown",
   "metadata": {},
   "source": [
    "<b> `cp()` gate : </b>\n",
    "\n",
    "*Lets create a Z-gate using cp gate*\n",
    "- *create an empty Quantum circuit with multiple qubits and classical bits.*\n",
    "- *add `cp()` gate and pass required phase angle, control qubit and target qubit*.\n",
    "- *measure and draw the circuit.*\n",
    "- *plot histograms to view measurements results.*\n",
    "\n",
    "---"
   ]
  },
  {
   "cell_type": "code",
   "execution_count": null,
   "metadata": {},
   "outputs": [],
   "source": [
    "# creating an empty quantum circuit\n",
    "qc=QuantumCircuit(2,2)\n",
    "phi=np.pi\n",
    "\n",
    "# add gates\n",
    "\n",
    "qc.x(0)\n",
    "qc.h(1)\n",
    "qc.cp(phi,0,1)\n",
    "qc.h(1)\n",
    "\n",
    "\n",
    "# measuring the circuit\n",
    "qc.measure([0,1],[0,1])\n",
    "\n",
    "# draw the circuit\n",
    "\n",
    "qc.draw(output='mpl')\n"
   ]
  },
  {
   "attachments": {},
   "cell_type": "markdown",
   "metadata": {},
   "source": [
    "**Note :** *please don't change any code in the below cell, it is for plotting histogram results.*"
   ]
  },
  {
   "cell_type": "code",
   "execution_count": null,
   "metadata": {},
   "outputs": [],
   "source": [
    "# executing the circuit\n",
    "\n",
    "job=execute(qc,shots=1024,backend=backend)\n",
    "\n",
    "# getting counts from executed results\n",
    "\n",
    "results=job.result().get_counts()\n",
    "\n",
    "# plotting the histogram\n",
    "\n",
    "plot_histogram(results)"
   ]
  },
  {
   "attachments": {},
   "cell_type": "markdown",
   "metadata": {},
   "source": [
    "#### *From the above results, you can see that when the state of our first qubit is 1, phase shift of $\\pi$ radians is applied on second qubit such that the state of the second qubit changes to 1, which leads to our output* $\\ket{11}$."
   ]
  },
  {
   "attachments": {},
   "cell_type": "markdown",
   "metadata": {},
   "source": [
    "> #### **CCX (Toffoli) Gate :**\n",
    "\n",
    "- The CCX (Controlled-Controlled-X) gate, also known as the Toffoli gate, is a widely used three-qubit gate in quantum computing. \n",
    "- It acts as a controlled-controlled-X gate, meaning it applies an X gate to the target qubit if and only if both control qubits are in the state |1>.\n",
    "- The CCX gate operates on three qubits: two control qubits and one target qubit. \n",
    "- <font color=orange> It performs an X gate (a bit-flip operation) on the target qubit if and only if both control qubits are in the state </font>|1>. <font color=orange> Otherwise, the target qubit remains unchanged. </font>\n",
    "- The Toffoli gate behaves similarly to the classical AND gate, but in a quantum context.\n",
    "- Toffoli gate can be constructed using other fundamental gates like cnot gate, hadamard gate and t gate.\n",
    "- The matrix representation of the CCX gate is as follows:\n",
    "\n",
    "    <center>\n",
    "\n",
    "    $\n",
    "    CCX = \\begin{bmatrix}\n",
    "    1 & 0 & 0 & 0 & 0 & 0 & 0 & 0 \\\\\n",
    "    0 & 1 & 0 & 0 & 0 & 0 & 0 & 0 \\\\\n",
    "    0 & 0 & 1 & 0 & 0 & 0 & 0 & 0 \\\\\n",
    "    0 & 0 & 0 & 1 & 0 & 0 & 0 & 0 \\\\\n",
    "    0 & 0 & 0 & 0 & 1 & 0 & 0 & 0 \\\\\n",
    "    0 & 0 & 0 & 0 & 0 & 1 & 0 & 0 \\\\\n",
    "    0 & 0 & 0 & 0 & 0 & 0 & 0 & 1 \\\\\n",
    "    0 & 0 & 0 & 0 & 0 & 0 & 1 & 0 \\\\\n",
    "    \\end{bmatrix}\n",
    "    $\n",
    "\n",
    "    <center>\n",
    "\n",
    "---\n",
    "\n",
    "In Qiskit, you can use the `ccx()` or `toffoli()` function to apply the CCX gate to your quantum circuit. Specify the control qubits and the target qubit based on your circuit requirements.\n",
    "```python\n",
    "qc = QuantumCircuit(3)\n",
    "qc.ccx(control_qubit1, control_qubit2, target_qubit)\n",
    "```\n",
    "<br>*for further reference, click [here](  https://qiskit.org/documentation/stubs/qiskit.circuit.QuantumCircuit.ccx.html   )*\n",
    "\n",
    "---\n",
    "\n"
   ]
  },
  {
   "attachments": {},
   "cell_type": "markdown",
   "metadata": {},
   "source": [
    "- *create an empty Quantum circuit with multiple qubits and classical bits.*\n",
    "- *add `ccx()` or `toffoli()` gate*.\n",
    "- *measure and draw the circuit.*\n",
    "- *plot histograms to view measurements results.*\n",
    "\n",
    "---"
   ]
  },
  {
   "cell_type": "code",
   "execution_count": null,
   "metadata": {},
   "outputs": [],
   "source": [
    "# creating an empty quantum circuit\n",
    "qc=QuantumCircuit(3,3)\n",
    "\n",
    "# add gates\n",
    "\n",
    "qc.x([0,1])\n",
    "qc.ccx(0,1,2)\n",
    "\n",
    "\n",
    "# measuring the circuit\n",
    "qc.measure([0,1,2],[0,1,2])\n",
    "\n",
    "# draw the circuit\n",
    "\n",
    "qc.draw(output='mpl')\n"
   ]
  },
  {
   "attachments": {},
   "cell_type": "markdown",
   "metadata": {},
   "source": [
    "**Note :** *please don't change any code in the below cell, it is for plotting histogram results.*"
   ]
  },
  {
   "cell_type": "code",
   "execution_count": null,
   "metadata": {},
   "outputs": [],
   "source": [
    "# executing the circuit\n",
    "\n",
    "job=execute(qc,shots=1024,backend=backend)\n",
    "\n",
    "# getting counts from executed results\n",
    "\n",
    "results=job.result().get_counts()\n",
    "\n",
    "# plotting the histogram\n",
    "\n",
    "plot_histogram(results)"
   ]
  },
  {
   "attachments": {},
   "cell_type": "markdown",
   "metadata": {},
   "source": [
    "#### *From the above results, you can see that when the state of our first qubit is 1 and second qubit is 1, the state of the second qubit changes to 1, which leads to our output* $\\ket{111}$."
   ]
  },
  {
   "attachments": {},
   "cell_type": "markdown",
   "metadata": {},
   "source": [
    "## <font color=orange>*Now that you have learnt about most of the multi-qubit gates, we will explore the concept of EPR pairs or Bell states using the CNOT gate.*</font>\n",
    "\n",
    "> #### **Bell states or EPR pairs :**\n",
    "\n",
    "- In quantum computing, Bell states, also known as EPR pairs, are maximally entangled states that play a crucial role in various quantum algorithms and protocols. \n",
    "- Bell states are created by applying specific gates to a pair of qubits.\n",
    "- <b>In Bell states, the state of the first qubit and the second qubit are entangled, meaning that the state of one qubit is dependent on the state of the other qubit. Knowing the state of one qubit allows us to determine the state of the second qubit, and vice versa.</b>\n",
    "    - <font color=lightblue>First, we prepare the first qubit in a superposition state using the H (Hadamard) gate.</font>\n",
    "    - <font color=lightblue>Next, we apply the CX (CNOT) gate to both qubits, with the first qubit serving as the control qubit and the second qubit as the target qubit.</font>\n",
    "\n",
    "\n",
    "---\n",
    "\n",
    "In Qiskit we create Bell states using following circuit:\n",
    "\n",
    "\n",
    "```python\n",
    "qc = QuantumCircuit(2)\n",
    "qc.h(0)\n",
    "qc.cx(0, 1)\n",
    "```\n",
    "<br>*for further reference, click [here](   https://learn.qiskit.org/course/ch-gates/multiple-qubits-and-entangled-states#:~:text=3.2-,Entangled%20States,-We%20saw%20in  )*\n",
    "\n",
    "---\n"
   ]
  },
  {
   "attachments": {},
   "cell_type": "markdown",
   "metadata": {},
   "source": [
    "- *create an empty quantum circuit with two qubits and 2 classical bits.*\n",
    "- *add Hadamard gate to first qubit.*\n",
    "- *add cnot gate to first and second qubits, with the first qubit serving as a target and second qubit serving as a target qubit.*\n",
    "- *measure and draw the circuit.*\n",
    "- *plot histogram to view measurement results.*\n",
    "\n",
    "---"
   ]
  },
  {
   "cell_type": "code",
   "execution_count": null,
   "metadata": {},
   "outputs": [],
   "source": [
    "# creating an empty quantum circuit with two classical and quantum bits.\n",
    "qc=QuantumCircuit(2,2)\n",
    "\n",
    "# add gates\n",
    "\n",
    "qc.h(0)\n",
    "qc.cx(0,1)\n",
    "\n",
    "\n",
    "# measuring the circuit\n",
    "qc.measure([0,1],[0,1])\n",
    "\n",
    "# draw the circuit\n",
    "\n",
    "qc.draw(output='mpl')\n"
   ]
  },
  {
   "attachments": {},
   "cell_type": "markdown",
   "metadata": {},
   "source": [
    "**Note :** *please don't change any code in the below cell, it is for plotting histogram results.*"
   ]
  },
  {
   "cell_type": "code",
   "execution_count": null,
   "metadata": {},
   "outputs": [],
   "source": [
    "# executing the circuit\n",
    "\n",
    "job=execute(qc,shots=1024,backend=backend)\n",
    "\n",
    "# getting counts from executed results\n",
    "\n",
    "results=job.result().get_counts()\n",
    "\n",
    "# plotting the histogram\n",
    "\n",
    "plot_histogram(results)"
   ]
  },
  {
   "attachments": {},
   "cell_type": "markdown",
   "metadata": {},
   "source": [
    "#### *The above results demonstrate that the states of both qubits are identical, indicating their entanglement.*"
   ]
  },
  {
   "attachments": {},
   "cell_type": "markdown",
   "metadata": {},
   "source": [
    "\n",
    "---\n",
    "## <font color=lightblue><center><b><i>Practice Time!</b></i></center></font>\n",
    "\n",
    "---\n",
    "<b><i>Now that you have learned the multiple-qubit gates , let's put what you've learnt into use. Let's practice!</b></i>\n"
   ]
  },
  {
   "attachments": {},
   "cell_type": "markdown",
   "metadata": {},
   "source": [
    "---\n",
    "\n",
    "#### **Exercise 1** : *Create a Quantum Circuit with 3 classical and quantum bits, add the following gates and measure.*\n",
    "- *add X-gate on qubit 0.*\n",
    "- *add a cx gate on qubit 0 and 1 , with the qubit 0 as control and qubit 1 as target.*\n",
    "- *add a cy gate on qubit 0 and 2, with the qubit 0 as control and qubit 2 as target.*\n",
    "- *measure and plot the histogram.*\n",
    "\n",
    "---\n"
   ]
  },
  {
   "cell_type": "code",
   "execution_count": null,
   "metadata": {},
   "outputs": [],
   "source": [
    "# creating an empty quantum circuit with three classical and quantum bits.\n",
    "qc=QuantumCircuit()\n",
    "\n",
    "\n",
    "#\n",
    "#\n",
    "#your code goes here\n",
    "#\n",
    "#\n",
    "\n",
    "\n",
    "qc.draw(output='mpl')\n"
   ]
  },
  {
   "attachments": {},
   "cell_type": "markdown",
   "metadata": {},
   "source": [
    "**Note :** *please don't change any code in the below cell, it is for plotting histogram results.*"
   ]
  },
  {
   "cell_type": "code",
   "execution_count": null,
   "metadata": {},
   "outputs": [],
   "source": [
    "# executing the circuit\n",
    "\n",
    "job=execute(qc,shots=1024,backend=backend)\n",
    "\n",
    "# getting counts from executed results\n",
    "\n",
    "results=job.result().get_counts()\n",
    "\n",
    "# plotting the histogram\n",
    "\n",
    "plot_histogram(results)"
   ]
  },
  {
   "attachments": {},
   "cell_type": "markdown",
   "metadata": {},
   "source": [
    "---\n",
    "\n",
    "#### **Exercise 2** : *Create a Quantum Circuit with 4 classical and quantum bits, add the following gates and measure.*\n",
    "- *add H-gate on qubit 0.*\n",
    "- *add a cx gate on qubit 0 and 1 , with the qubit 0 as control and qubit 1 as target.*\n",
    "- *add a cx gate on qubit 0 and 2, with the qubit 0 as control and qubit 2 as target.*\n",
    "- *add a toffoli gate on qubit 1,2,3 with the qubit 1 and 2 as control and qubit 3 as target.*\n",
    "- *measure and plot the histogram.*\n",
    "\n",
    "---\n"
   ]
  },
  {
   "cell_type": "code",
   "execution_count": null,
   "metadata": {},
   "outputs": [],
   "source": [
    "# creating an empty quantum circuit with three classical and quantum bits.\n",
    "qc=QuantumCircuit()\n",
    "\n",
    "#\n",
    "#\n",
    "#your code goes here\n",
    "#\n",
    "#\n",
    "\n",
    "\n",
    "\n",
    "# measuring the circuit\n",
    "qc.measure([0,1,2,3],[0,1,2,3])\n",
    "\n",
    "# draw the circuit\n",
    "\n",
    "qc.draw(output='mpl')\n"
   ]
  },
  {
   "attachments": {},
   "cell_type": "markdown",
   "metadata": {},
   "source": [
    "**Note :** *please don't change any code in the below cell, it is for plotting histogram results.*"
   ]
  },
  {
   "cell_type": "code",
   "execution_count": null,
   "metadata": {},
   "outputs": [],
   "source": [
    "# executing the circuit\n",
    "\n",
    "job=execute(qc,shots=1024,backend=backend)\n",
    "\n",
    "# getting counts from executed results\n",
    "\n",
    "results=job.result().get_counts()\n",
    "\n",
    "# plotting the histogram\n",
    "\n",
    "plot_histogram(results)"
   ]
  },
  {
   "attachments": {},
   "cell_type": "markdown",
   "metadata": {},
   "source": [
    "---\n",
    "\n",
    "#### **Exercise 3** : *Create a Quantum Circuit with 3 classical and quantum bits, add the following gates and measure.*\n",
    "- *add H-gate on qubit 0.*\n",
    "- *add a crx gate on qubit 0 and 1 , with the angle of $\\pi$ radians, qubit 0 as control and qubit 1 as target.*\n",
    "- *add a cry gate on qubit 0 and 2, with the angle of $\\pi$ radians, qubit 0 as control and qubit 2 as target.*\n",
    "- *measure and plot the histogram.*\n",
    "\n",
    "---\n"
   ]
  },
  {
   "cell_type": "code",
   "execution_count": null,
   "metadata": {},
   "outputs": [],
   "source": [
    "# creating an empty quantum circuit with three classical and quantum bits.\n",
    "qc=QuantumCircuit(3)\n",
    "\n",
    "\n",
    "\n",
    "#\n",
    "#\n",
    "#your code goes here\n",
    "#\n",
    "#\n",
    "\n",
    "\n",
    "# measuring the circuit\n",
    "qc.measure([0,1,2],[0,1,2])\n",
    "\n",
    "# draw the circuit\n",
    "\n",
    "qc.draw(output='mpl')\n"
   ]
  },
  {
   "attachments": {},
   "cell_type": "markdown",
   "metadata": {},
   "source": [
    "**Note :** *please don't change any code in the below cell, it is for plotting histogram results.*"
   ]
  },
  {
   "cell_type": "code",
   "execution_count": null,
   "metadata": {},
   "outputs": [],
   "source": [
    "# executing the circuit\n",
    "\n",
    "job=execute(qc,shots=1024,backend=backend)\n",
    "\n",
    "# getting counts from executed results\n",
    "\n",
    "results=job.result().get_counts()\n",
    "\n",
    "# plotting the histogram\n",
    "\n",
    "plot_histogram(results)"
   ]
  },
  {
   "attachments": {},
   "cell_type": "markdown",
   "metadata": {},
   "source": [
    "---\n",
    "\n",
    "#### **Exercise 4** : *Create a Quantum Circuit with 5 classical and quantum bits, add the following gates and measure.*\n",
    "- *add x-gate on qubit 0.*\n",
    "- *add h-gate on qubit 4.*\n",
    "- *add a crx gate on qubit 0 and 1 , with the angle of $\\pi$ radians, qubit 0 as control and qubit 1 as target.*\n",
    "- *add a cry gate on qubit 0 and 2, with the angle of $\\pi$ radians, qubit 0 as control and qubit 2 as target.*\n",
    "- *add a toffoli gate on qubit 1,2,3, with the qubit 1 and 2 as control and qubit 3 as target.*\n",
    "- *add a cp gate on qubit qubit 3,4, with qubit 3 as control and qubit 4 as target.*\n",
    "- *add a h gate on qubit 4.* \n",
    "- *measure and plot the histogram.*\n",
    "\n",
    "---\n"
   ]
  },
  {
   "cell_type": "code",
   "execution_count": null,
   "metadata": {},
   "outputs": [],
   "source": [
    "# creating an empty quantum circuit with three classical and quantum bits.\n",
    "qc=QuantumCircuit()\n",
    "\n",
    "\n",
    "\n",
    "\n",
    "#\n",
    "#\n",
    "#your code goes here\n",
    "#\n",
    "#\n",
    "\n",
    "\n",
    "\n",
    "\n",
    "\n",
    "# measuring the circuit\n",
    "qc.measure(range(5),range(5))\n",
    "\n",
    "# draw the circuit\n",
    "\n",
    "qc.draw(output='mpl')\n"
   ]
  },
  {
   "attachments": {},
   "cell_type": "markdown",
   "metadata": {},
   "source": [
    "**Note :** *please don't change any code in the below cell, it is for plotting histogram results.*"
   ]
  },
  {
   "cell_type": "code",
   "execution_count": null,
   "metadata": {},
   "outputs": [],
   "source": [
    "# executing the circuit\n",
    "\n",
    "job=execute(qc,shots=1024,backend=backend)\n",
    "\n",
    "# getting counts from executed results\n",
    "\n",
    "results=job.result().get_counts()\n",
    "\n",
    "# plotting the histogram\n",
    "\n",
    "plot_histogram(results)"
   ]
  },
  {
   "attachments": {},
   "cell_type": "markdown",
   "metadata": {},
   "source": [
    "<b><i><font color=orange>Congratulations! Now you have learnt and practiced the multi-qubit gates in Quantum Computing. Well Done! Continue learning with the next tutorial. All the best!</font></i></b>"
   ]
  },
  {
   "attachments": {},
   "cell_type": "markdown",
   "metadata": {},
   "source": [
    "*Content written by- Akash*"
   ]
  }
 ],
 "metadata": {
  "kernelspec": {
   "display_name": "Python 3",
   "language": "python",
   "name": "python3"
  },
  "language_info": {
   "codemirror_mode": {
    "name": "ipython",
    "version": 3
   },
   "file_extension": ".py",
   "mimetype": "text/x-python",
   "name": "python",
   "nbconvert_exporter": "python",
   "pygments_lexer": "ipython3",
   "version": "3.10.10"
  },
  "orig_nbformat": 4
 },
 "nbformat": 4,
 "nbformat_minor": 2
}
