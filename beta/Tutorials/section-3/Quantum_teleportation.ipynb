{
 "cells": [
  {
   "cell_type": "code",
   "execution_count": null,
   "metadata": {},
   "outputs": [],
   "source": [
    "#run this cell to install qiskit \n",
    "#skip this cell if you have pre-installed qiskit library or if you are running on IBM-Quantum\n",
    "! pip install qiskit"
   ]
  },
  {
   "attachments": {},
   "cell_type": "markdown",
   "metadata": {},
   "source": [
    "# <center>Quantum teleportation protocol</center>\n",
    "Welcome to this lab on quantum teleportation in which we will solve a problem that Alice and Bob have been having. Alice possesses a qubit in an unknown state  |𝜓⟩\n",
    "  and she wishes to transfer this quantum state to Bob. However, they are very far apart and lack any means to transfer quantum information directly, only classical information. Is it possible to achieve their goal?\n",
    "\n",
    "It turns out that if Alice and Bob share an entangled qubit pair, she can transfer her qubit state to Bob by sending two bits of classical information. This process is known as teleportation because, at the end, Bob will possess |ψ⟩, and Alice will no longer have it."
   ]
  },
  {
   "cell_type": "code",
   "execution_count": null,
   "metadata": {},
   "outputs": [],
   "source": [
    "#The following statements import useful libraries containing functions and methods that will help us build the circuit.\n",
    "from qiskit.circuit import QuantumCircuit,QuantumRegister,ClassicalRegister\n",
    "from qiskit import execute,transpile\n",
    "from qiskit.extensions import Initialize\n",
    "from qiskit_aer import Aer\n",
    "from qiskit.visualization import *\n",
    "from qiskit.quantum_info import *\n",
    "import numpy as np\n",
    "import matplotlib.pyplot as plt\n",
    "from qiskit.tools.jupyter import *\n",
    "print('Libraries imported successfully')"
   ]
  },
  {
   "attachments": {},
   "cell_type": "markdown",
   "metadata": {},
   "source": [
    "##  Implementation "
   ]
  },
  {
   "attachments": {},
   "cell_type": "markdown",
   "metadata": {},
   "source": [
    "--- \n",
    "\n",
    "In this protocol a 3-qubit quantum circuit is created where Alice holds two qubits and Bob holds one qubit.<br>\n",
    "qubit which Alice wants to teleport is represented as psi, Entangled qubit that Alice has is represented as 'a' and Bob's qubit is represented as 'b'.\n",
    "\n",
    "\n",
    "#### *Step 1 :*\n",
    "- Alice and Bob shares an entangled pair of qubits known as Bell states.\n",
    "- So Alice and Bob share each qubit from an entangled Bell pair.\n",
    "- Bell pair can be creates by the following steps:\n",
    "    - *transfer one of the qubit to X-basis* $(\\ket{+} or \\ket{-})$ *using Hadamard gate.*\n",
    "    - *apply CNOT gate onto the other qubit controlled by the one in the X-basis.*\n",
    " "
   ]
  },
  {
   "cell_type": "code",
   "execution_count": null,
   "metadata": {},
   "outputs": [],
   "source": [
    "def create_bell_pair(qc,a,b):\n",
    "    '''This function creates a bell pair in quantum circuit qc using qubits a and b'''\n",
    "    qc.h(a)\n",
    "    qc.cx(a,b)\n",
    "    "
   ]
  },
  {
   "cell_type": "code",
   "execution_count": null,
   "metadata": {},
   "outputs": [],
   "source": [
    "psi=QuantumRegister(1,'𝜓')       #teleporting qubit\n",
    "a=QuantumRegister(1,'alice')     #alice qubit\n",
    "b=QuantumRegister(1,'bob')       #bob qubit\n",
    "crz,crx=ClassicalRegister(1,'crz'),ClassicalRegister(1,'crx')\n",
    "teleportation_circuit=QuantumCircuit(psi,a,b,crx,crz)\n",
    "\n",
    "# step 1\n",
    "# Now we create bell states\n",
    "\n",
    "create_bell_pair(teleportation_circuit,a,b)\n",
    "\n",
    "# draw the circuit\n",
    "teleportation_circuit.draw(output='mpl')\n"
   ]
  },
  {
   "attachments": {},
   "cell_type": "markdown",
   "metadata": {},
   "source": [
    "#### *Step 2 :*\n",
    "Now Alice creates a Bell basis on her two qubits as follows :\n",
    "- *Alice applies a CNOT gate to `alice` qubit, controlled by* $\\ket{\\psi}$ *(the qubit she is trying to send Bob).*\n",
    "- *Then Alice adds a Hadamard gate to* $\\ket{\\psi}$*(psi)*."
   ]
  },
  {
   "cell_type": "code",
   "execution_count": null,
   "metadata": {},
   "outputs": [],
   "source": [
    "def alice_gates(qc,psi,a):\n",
    "    ''' This function takes quantum circuit, psi and a qubits as argument and add alice gates(bell basis)'''\n",
    "    qc.cx(psi,a)\n",
    "    qc.h(psi)"
   ]
  },
  {
   "cell_type": "code",
   "execution_count": null,
   "metadata": {},
   "outputs": [],
   "source": [
    "psi=QuantumRegister(1,'𝜓')       #teleporting qubit\n",
    "a=QuantumRegister(1,'alice')     #alice qubit\n",
    "b=QuantumRegister(1,'bob')       #bob qubit\n",
    "crz,crx=ClassicalRegister(1,'crz'),ClassicalRegister(1,'crx')\n",
    "teleportation_circuit=QuantumCircuit(psi,a,b,crx,crz)\n",
    "\n",
    "# step 1\n",
    "# create bell states \n",
    "\n",
    "create_bell_pair(teleportation_circuit,a,b)\n",
    "\n",
    "# step 2\n",
    "# add alice gates\n",
    "\n",
    "alice_gates(teleportation_circuit,psi,a)\n",
    "\n",
    "# draw the circuit\n",
    "teleportation_circuit.draw(output='mpl')"
   ]
  },
  {
   "attachments": {},
   "cell_type": "markdown",
   "metadata": {},
   "source": [
    "#### *Step 3 :*\n",
    "- *Next, Alice applies a measurement to both qubits that she owns, `alice`\n",
    " and `psi`, and stores this result in two classical bits.*\n",
    "\n",
    " <br>She then sends these two bits to Bob."
   ]
  },
  {
   "cell_type": "code",
   "execution_count": null,
   "metadata": {},
   "outputs": [],
   "source": [
    "def measurement(qc,psi,a):\n",
    "    '''This function takes quantum circuit, psi and a qubits as arguments and measure qubits that Alice owns'''\n",
    "    qc.measure(psi,0)\n",
    "    qc.measure(a,1)"
   ]
  },
  {
   "cell_type": "code",
   "execution_count": null,
   "metadata": {},
   "outputs": [],
   "source": [
    "psi=QuantumRegister(1,'𝜓')       #teleporting qubit\n",
    "a=QuantumRegister(1,'alice')     #alice qubit\n",
    "b=QuantumRegister(1,'bob')       #bob qubit\n",
    "crz,crx=ClassicalRegister(1,'crz'),ClassicalRegister(1,'crx')\n",
    "teleportation_circuit=QuantumCircuit(psi,a,b,crx,crz)\n",
    "\n",
    "# step1 \n",
    "# create bell states  \n",
    "\n",
    "create_bell_pair(teleportation_circuit,a,b)\n",
    "\n",
    "# step 2\n",
    "# add alice gates\n",
    "\n",
    "alice_gates(teleportation_circuit,psi,a)\n",
    "\n",
    "# step 3\n",
    "# measure and send alice qubits\n",
    "\n",
    "measurement(teleportation_circuit,psi,a)\n",
    "\n",
    "# draw the circuit\n",
    "teleportation_circuit.draw(output='mpl')"
   ]
  },
  {
   "attachments": {},
   "cell_type": "markdown",
   "metadata": {},
   "source": [
    "---\n",
    "\n",
    "#### *Step 4 :*\n",
    "In this step, Bob, who is already in possession of bob qubit, dynamically adds specific gates to the circuit based on the state of the classical bits received from Alice:\n",
    "\n",
    "- *If the bits are `00`, no action is required.*\n",
    "- *If they are `01`, an 𝑋 gate (also known as a Pauli-X or a bit-flip gate) should be applied.*\n",
    "- *For bits `10`, a 𝑍 gate (also known as a Pauli-Z or a phase-flip gate) should be applied.*\n",
    "- *Lastly, if the classical bits are `11`, a combined 𝑍𝑋 gate should be applied, which involves applying both the 𝑍 and 𝑋 gates in sequence.*\n",
    "\n",
    "---\n",
    "\n",
    "To add these gates controlled by classical bits we can use two methods :\n",
    "- *First one is `c_if()`.*\n",
    "- *Second one is `if_test(())`*\n",
    "\n",
    "\n",
    "Here we use `c_if()`.\n",
    "Its syntax is as follows:<br>\n",
    "`circuit.gate().c_if(classical bit index, classical bit value)`\n",
    "- *If the classical bit we mentioned in c_if is equal to the mentioned value(0 or 1), then the gate we mentioned will be added.It is similar to if statement in programming.*\n",
    "\n",
    "---"
   ]
  },
  {
   "cell_type": "code",
   "execution_count": null,
   "metadata": {},
   "outputs": [],
   "source": [
    "def bob_gates(qc,b,crx,crz):\n",
    "    # \n",
    "    # Here we use c_if to control our gates with a classical\n",
    "    # bit instead of a qubit\n",
    "    qc.z(b).c_if(crz,1)\n",
    "    qc.x(b).c_if(crx,1)\n",
    "    "
   ]
  },
  {
   "cell_type": "code",
   "execution_count": null,
   "metadata": {},
   "outputs": [],
   "source": [
    "psi=QuantumRegister(1,'𝜓')       #teleporting qubit\n",
    "a=QuantumRegister(1,'alice')     #alice qubit\n",
    "b=QuantumRegister(1,'bob')       #bob qubit\n",
    "crz,crx=ClassicalRegister(1,'crz'),ClassicalRegister(1,'crx')\n",
    "teleportation_circuit=QuantumCircuit(psi,a,b,crx,crz)\n",
    "\n",
    "# step 1\n",
    "# create bell states \n",
    "\n",
    "create_bell_pair(teleportation_circuit,a,b)\n",
    "teleportation_circuit.barrier() # barrier to separate steps for easier understanding\n",
    "\n",
    "# step 2\n",
    "# add alice gates\n",
    "\n",
    "alice_gates(teleportation_circuit,psi,a)\n",
    "teleportation_circuit.barrier() # barrier to separate steps for easier understanding\n",
    "\n",
    "# step 3\n",
    "# measure and send alice qubits\n",
    "\n",
    "measurement(teleportation_circuit,psi,a)\n",
    "teleportation_circuit.barrier() # barrier to separate steps for easier understanding\n",
    "\n",
    "# step 4\n",
    "# add bob gates\n",
    "\n",
    "bob_gates(teleportation_circuit,b,crx,crz)\n",
    "\n",
    "# draw the circuit\n",
    "teleportation_circuit.draw(output='mpl')\n"
   ]
  },
  {
   "attachments": {},
   "cell_type": "markdown",
   "metadata": {},
   "source": [
    "---\n",
    "\n",
    "## Simulating and verifying the protocol\n",
    "\n",
    "Whether our circuit is teleporting the desired quantum state or not, we will now simulate and verify the protocol.\n",
    "\n",
    "- *First, we generate a random state using `random_statevector()`.*\n",
    "- *Secondly, we initialize `psi` qubit with the generated state and perform teleportation protocol.*\n",
    "- *Then, we verify the state of Bob qubit and plot bloch sphere.*\n",
    "\n",
    "---\n",
    "\n",
    "#### *Step 1 :*\n",
    "Generate a random state using `random_statevector()`."
   ]
  },
  {
   "cell_type": "code",
   "execution_count": null,
   "metadata": {},
   "outputs": [],
   "source": [
    "psi_state=random_statevector(2)\n",
    "\n",
    "# view the generated statevector\n",
    "\n",
    "display(array_to_latex(psi_state,prefix=\"|\\\\psi\\\\rangle =\"))\n",
    "\n",
    "# plot a bloch shphere\n",
    "plot_bloch_multivector(psi_state)"
   ]
  },
  {
   "attachments": {},
   "cell_type": "markdown",
   "metadata": {},
   "source": [
    "#### *step 2 :*\n",
    "Initialize qubit `psi` with the generated random state and perform teleportation protocol."
   ]
  },
  {
   "cell_type": "code",
   "execution_count": null,
   "metadata": {},
   "outputs": [],
   "source": [
    "# ---------------------------------------------------------------------------------------------------------------------------------------------\n",
    "# step 1\n",
    "\n",
    "# Create random 1-qubit state\n",
    "psi_state=random_statevector(2)\n",
    "\n",
    "#display the statevector\n",
    "display(array_to_latex(psi_state))\n",
    "\n",
    "#plot the bloch sphere\n",
    "plot_bloch_multivector(psi_state)"
   ]
  },
  {
   "cell_type": "code",
   "execution_count": null,
   "metadata": {},
   "outputs": [],
   "source": [
    "\n",
    "#--------------------------------------------------------------------------------------------------------------------\n",
    "## STEP 2\n",
    "\n",
    "psi=QuantumRegister(1,'𝜓')       #teleporting qubit\n",
    "a=QuantumRegister(1,'alice')     #alice qubit\n",
    "b=QuantumRegister(1,'bob')       #bob qubit\n",
    "crz,crx=ClassicalRegister(1,'crz'),ClassicalRegister(1,'crx')\n",
    "teleportation_circuit=QuantumCircuit(psi,a,b,crx,crz)\n",
    "\n",
    "# initializing state to qubit psi\n",
    "\n",
    "teleportation_circuit.initialize(psi_state,psi)\n",
    "teleportation_circuit.barrier() # barrier to separate steps for easier understanding\n",
    "\n",
    "\n",
    "\n",
    "# step 1\n",
    "# create bell states \n",
    "\n",
    "create_bell_pair(teleportation_circuit,a,b)\n",
    "teleportation_circuit.barrier() # barrier to separate steps for easier understanding\n",
    "\n",
    "# step 2\n",
    "# add alice gates\n",
    "\n",
    "alice_gates(teleportation_circuit,psi,a)\n",
    "teleportation_circuit.barrier() # barrier to separate steps for easier understanding\n",
    "\n",
    "# step 3\n",
    "# measure and send alice qubits\n",
    "\n",
    "measurement(teleportation_circuit,psi,a)\n",
    "\n",
    "\n",
    "# step 4\n",
    "# add bob gates\n",
    "\n",
    "bob_gates(teleportation_circuit,b,crx,crz)\n",
    "\n",
    "# draw the circuit\n",
    "teleportation_circuit.draw(output='mpl')\n",
    "\n",
    "#----------------------------------------------------------------------------------------------------------------------\n"
   ]
  },
  {
   "attachments": {},
   "cell_type": "markdown",
   "metadata": {},
   "source": [
    "#### *step 3 :*\n",
    "*Save the statevector, measure it and verify the teleported state.*"
   ]
  },
  {
   "cell_type": "code",
   "execution_count": null,
   "metadata": {},
   "outputs": [],
   "source": [
    "teleportation_circuit.save_statevector()\n",
    "\n",
    "sim=Aer.get_backend('aer_simulator')\n",
    "\n",
    "final_state=sim.run(teleportation_circuit).result().get_statevector()\n",
    "\n",
    "plot_bloch_multivector(final_state)"
   ]
  },
  {
   "attachments": {},
   "cell_type": "markdown",
   "metadata": {},
   "source": [
    "#### *The random state we generated is :*"
   ]
  },
  {
   "cell_type": "code",
   "execution_count": null,
   "metadata": {},
   "outputs": [],
   "source": [
    "plot_bloch_multivector(psi_state)"
   ]
  },
  {
   "attachments": {},
   "cell_type": "markdown",
   "metadata": {},
   "source": [
    "#### *As you can see here, the state of qubit psi is successfully teleported to Bob's qubit.*<br>\n",
    "*Please re-run the above cells in case the same state is not teleported.*"
   ]
  },
  {
   "attachments": {},
   "cell_type": "markdown",
   "metadata": {},
   "source": [
    "---\n",
    "\n",
    "## <font color=orange> Now it's your turn </font>\n",
    "\n",
    "#### First prepare a teleportaion circuit.\n",
    "\n",
    "#### *step 1 :*\n",
    "- *create a function `bell_states()` which prepares Bell states by taking quantum circuit, Alice qubit and Bob qubit as parameters.*\n",
    "\n",
    "---\n",
    "\n"
   ]
  },
  {
   "cell_type": "code",
   "execution_count": null,
   "metadata": {},
   "outputs": [],
   "source": [
    "# -----------------------------------------------\n",
    "\n",
    "\n",
    "\n",
    "# \n",
    "# your code goes here\n",
    "# \n",
    "\n",
    "\n",
    "\n",
    "\n",
    "\n",
    "# -----------------------------------------------"
   ]
  },
  {
   "attachments": {},
   "cell_type": "markdown",
   "metadata": {},
   "source": [
    "---\n",
    "\n",
    "#### *step 2 :*<i>\n",
    "- create a function `alice_gates()` which adds following gates by taking quantum circuit, psi and Alice qubit as parameter.\n",
    "    - *apply a CNOT gate to Alice qubit, controlled by* $\\ket{\\psi}$.\n",
    "    - *Then add a Hadamard gate to* $\\ket{\\psi}$*(psi)*.</i>\n",
    "\n",
    "---"
   ]
  },
  {
   "cell_type": "code",
   "execution_count": null,
   "metadata": {},
   "outputs": [],
   "source": [
    "# -----------------------------------------------------------------------\n",
    "\n",
    "\n",
    "\n",
    "\n",
    "# \n",
    "# your code goes here\n",
    "# \n",
    "\n",
    "\n",
    "\n",
    "\n",
    "\n",
    "\n",
    "\n",
    "# -----------------------------------------------------------------------"
   ]
  },
  {
   "attachments": {},
   "cell_type": "markdown",
   "metadata": {},
   "source": [
    "---\n",
    "\n",
    "#### *step 3 :*<i>\n",
    "- now create a function `measure_alice_qubits()` which performs following measurement by taking quantum circuit,Alice qubit, psi and classical bits crz and crx as input parameters:\n",
    "    - measure psi and store the result into crx bit.\n",
    "    - measure Alice qubit and store the result into crz bit.</i>\n",
    "\n",
    "---"
   ]
  },
  {
   "cell_type": "code",
   "execution_count": null,
   "metadata": {},
   "outputs": [],
   "source": [
    "# ------------------------------------------------------------------------\n",
    "\n",
    "\n",
    "\n",
    "\n",
    "# \n",
    "# your code goes here\n",
    "# \n",
    "\n",
    "\n",
    "\n",
    "\n",
    "\n",
    "\n",
    "\n",
    "\n",
    "# -------------------------------------------------------------------------"
   ]
  },
  {
   "attachments": {},
   "cell_type": "markdown",
   "metadata": {},
   "source": [
    "---\n",
    "\n",
    "#### *step 4 :*\n",
    "- *create a function `bob_gates()` which performs following operations by taking quantum circuit, Bob qubit, crz bit and crx bit as input parameters.*\n",
    "    - *If the bits are `00`, no action is required.*\n",
    "    - *If they are `01`, an 𝑋 gate (also known as a Pauli-X or a bit-flip gate) should be applied.*\n",
    "    - *For bits `10`, a 𝑍 gate (also known as a Pauli-Z or a phase-flip gate) should be applied.*\n",
    "    - *Lastly, if the classical bits are `11`, a combined 𝑍𝑋 gate should be applied, which involves applying both the 𝑍 and 𝑋 gates in sequence.*\n",
    "\n",
    "---\n"
   ]
  },
  {
   "cell_type": "code",
   "execution_count": null,
   "metadata": {},
   "outputs": [],
   "source": [
    "# -------------------------------------------------------------------------\n",
    "\n",
    "\n",
    "\n",
    "\n",
    "\n",
    "# \n",
    "# your code goes here\n",
    "# \n",
    "\n",
    "\n",
    "\n",
    "\n",
    "\n",
    "\n",
    "\n",
    "# ---------------------------------------------------------------------------"
   ]
  },
  {
   "attachments": {},
   "cell_type": "markdown",
   "metadata": {},
   "source": [
    "---\n",
    "\n",
    "#### *Now create a quantum circuit named `qc` with 3 qubits and classical bits where q0 represents qubit psi, q1 represents Alice qubit and q2 represents bob qubit, c0 represents `crx` bit and c1 represents `crz` bit.*<br><br>\n",
    "\n",
    "#### *Then add the following functions in order and draw the circuit.*\n",
    "1) `bell_states()`\n",
    "2) `alice_gates()`\n",
    "3) `measure_alice_qubits()`\n",
    "4) `bob_gates()`\n",
    "5) draw the circuit\n",
    "\n",
    "---"
   ]
  },
  {
   "cell_type": "code",
   "execution_count": null,
   "metadata": {},
   "outputs": [],
   "source": [
    "# ---------------------------------------------------------------------------\n",
    "\n",
    "\n",
    "\n",
    "\n",
    "\n",
    "\n",
    "\n",
    "\n",
    "# \n",
    "# your code goes here\n",
    "# \n",
    "\n",
    "\n",
    "\n",
    "\n",
    "\n",
    "\n",
    "\n",
    "\n",
    "\n",
    "\n",
    "\n",
    "\n",
    "\n",
    "# -----------------------------------------------------------------------------"
   ]
  },
  {
   "attachments": {},
   "cell_type": "markdown",
   "metadata": {},
   "source": [
    "#### *your circuit should be similar to the below circuit.*"
   ]
  },
  {
   "attachments": {},
   "cell_type": "markdown",
   "metadata": {},
   "source": [
    "![teleportation circuit](beta\\Tutorials\\circuit_images\\teleportation_circuit.png)"
   ]
  },
  {
   "attachments": {},
   "cell_type": "markdown",
   "metadata": {},
   "source": [
    "---\n",
    "\n",
    "#### Now simulate the quantum teleportation \n",
    "*step 1:*\n",
    "- *generate a single qubit random statevector using `random_statevector()` function and store in a variable.*\n",
    "- *plot a bloch sphere using `plot_bloch_multivector()` for the generated statevector.*\n",
    "\n",
    "---\n"
   ]
  },
  {
   "cell_type": "code",
   "execution_count": null,
   "metadata": {},
   "outputs": [],
   "source": [
    "# -------------------------------------------------------------------------\n",
    "\n",
    "\n",
    "\n",
    "\n",
    "\n",
    "# \n",
    "# your code goes here\n",
    "# \n",
    "\n",
    "\n",
    "\n",
    "\n",
    "\n",
    "\n",
    "\n",
    "# ---------------------------------------------------------------------------"
   ]
  },
  {
   "attachments": {},
   "cell_type": "markdown",
   "metadata": {},
   "source": [
    "---\n",
    "\n",
    "#### *step 2 :*\n",
    "- *create the previous teleportation circuit by initializing the qubit 0 (psi) with the generated random statevector immediately after creating quantum circuit.* \n",
    "\n",
    "---"
   ]
  },
  {
   "cell_type": "code",
   "execution_count": null,
   "metadata": {},
   "outputs": [],
   "source": [
    "# -------------------------------------------------------------------------\n",
    "\n",
    "\n",
    "\n",
    "\n",
    "\n",
    "# \n",
    "# your code goes here\n",
    "# \n",
    "\n",
    "\n",
    "\n",
    "\n",
    "\n",
    "\n",
    "\n",
    "# ---------------------------------------------------------------------------"
   ]
  },
  {
   "attachments": {},
   "cell_type": "markdown",
   "metadata": {},
   "source": [
    "---\n",
    "\n",
    "#### *step 3 :*\n",
    "*Save the statevector, measure it and plot the bloch sphere.*\n",
    "\n",
    "----"
   ]
  },
  {
   "cell_type": "code",
   "execution_count": null,
   "metadata": {},
   "outputs": [],
   "source": [
    "# -------------------------------------------------------------------------\n",
    "\n",
    "\n",
    "\n",
    "\n",
    "\n",
    "# \n",
    "# your code goes here\n",
    "# \n",
    "\n",
    "\n",
    "\n",
    "\n",
    "\n",
    "\n",
    "\n",
    "# ---------------------------------------------------------------------------"
   ]
  },
  {
   "attachments": {},
   "cell_type": "markdown",
   "metadata": {},
   "source": [
    "#### *You should be seeing the same qubit state teleported from qubit 0 to qubit 2. If not, please re-run the above cells or check the circuit again.*\n",
    "\n",
    "---"
   ]
  },
  {
   "attachments": {},
   "cell_type": "markdown",
   "metadata": {},
   "source": [
    "*Content written by- Akash*"
   ]
  }
 ],
 "metadata": {
  "kernelspec": {
   "display_name": "Python 3",
   "language": "python",
   "name": "python3"
  },
  "language_info": {
   "codemirror_mode": {
    "name": "ipython",
    "version": 3
   },
   "file_extension": ".py",
   "mimetype": "text/x-python",
   "name": "python",
   "nbconvert_exporter": "python",
   "pygments_lexer": "ipython3",
   "version": "3.10.10"
  },
  "orig_nbformat": 4
 },
 "nbformat": 4,
 "nbformat_minor": 2
}
